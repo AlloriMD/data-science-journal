{
 "cells": [
  {
   "cell_type": "markdown",
   "metadata": {
    "colab_type": "text",
    "id": "5aiMtO2JKCM4"
   },
   "source": [
    "# Word Embeddings - Lecture\n",
    "\n",
    "![](https://d33wubrfki0l68.cloudfront.net/b2e6528737d6e532e7f39a50f7f1c3ffae9b6559/93c1e/blog/img/sense2vec.jpg)\n",
    "*Image credit of [Explosion.ai](https://explosion.ai/blog/sense2vec-with-spacy)*"
   ]
  },
  {
   "cell_type": "markdown",
   "metadata": {
    "colab_type": "text",
    "id": "yDExdNOUqmNj"
   },
   "source": [
    "## Unstructured -> Structured\n",
    "\n",
    "Processing text data to prepare it for maching learning models often means translating the information from documents into a numerical format. Bag-of-Words approaches (sometimes referred to as Frequency-Based word embeddings) accomplish this by \"vectorizing\" tokenized documents. This is done by representing each document as a row in a dataframe and creating a column for each unique word in the corpora (group of documents). The presence or lack of a given word in a document is then represented either as a raw count of how many times a given word appears in a document (CountVectorizer) or as that word's TF-IDF score (TfidfVectorizer)."
   ]
  },
  {
   "cell_type": "markdown",
   "metadata": {
    "colab_type": "text",
    "id": "p5dZElloqmXw"
   },
   "source": [
    "## BoW discards textual context\n",
    "\n",
    "One of the limitations of Bag-of-Words approaches is that any information about the textual context surrounding that word is lost. This also means that with bag-of-words approaches often the only tools that we have for identifying words with similar usage or meaning and subsequently consolidating them into a single vector is through the processes of stemming and lemmatization which tend to be quite limited at consolidating words unless the two words are very close in their spelling or in their root parts-of-speech."
   ]
  },
  {
   "cell_type": "markdown",
   "metadata": {
    "colab_type": "text",
    "id": "uMUYb0-9qmeG"
   },
   "source": [
    "## Word2Vec approaches preserve more textual context\n",
    "\n",
    "Word2Vec is an increasingly popular word embedding technique. Like Bag-of-words it learns a real-value vector representation for a predefined fixed-size vocabulary that is generated from a corpus of text. However, in contrast to BoW, Word2Vec approaches are much more capable of accounting for textual context, and are better at discovering words with similar meanings or usages (semantic or syntactic similarity)."
   ]
  },
  {
   "cell_type": "markdown",
   "metadata": {
    "colab_type": "text",
    "id": "6CfSTxLXYsTp"
   },
   "source": [
    "# CountVectorizer\n",
    "\n",
    "### Corpora:\n",
    "\n",
    "1) \"the cat and dog sat\"\n",
    "\n",
    "2) \"the dog and cat sat\"\n",
    "\n",
    "3) \"the cat sat and sat\"\n",
    "\n",
    "4) \"the cat killed the dog\"\n",
    "\n",
    "### Vocabulary:\n",
    "\n",
    "{\"the\": 1, \"cat\": 2, \"sat\": 3, \"dog\": 4, \"and\": 5, \"killed\": 6}\n",
    "\n",
    "### Vectorization\n",
    "\n",
    "| document | the | cat | sat | dog | and | killed |\n",
    "|:----|:-----|:-----|:-----|:-----|:-----|:--------|\n",
    "| d1 | 1   | 1   | 1   | 1   | 1   | 0      |\n",
    "| d2 | 1   | 1   | 1   | 1   | 1   | 0      |\n",
    "| d3 | 1   | 1   | 2   | 0   | 1   | 0      |\n",
    "| d4 | 1   | 1   | 0   | 1   | 0   | 1      |\n"
   ]
  },
  {
   "cell_type": "markdown",
   "metadata": {
    "colab_type": "text",
    "id": "QtZqfD8BbYks"
   },
   "source": [
    "# TF-IDF\n",
    "\n",
    "### Corpora:\n",
    "\n",
    "1) \"the cat and dog sat\"\n",
    "\n",
    "2) \"the dog and cat sat\"\n",
    "\n",
    "3) \"the cat sat and sat\"\n",
    "\n",
    "4) \"the cat killed the dog\"\n",
    "\n",
    "### Vocabulary:\n",
    "\n",
    "{\"the\": 1, \"cat\": 2, \"sat\": 3, \"dog\": 4, \"and\": 5, \"killed\": 6}\n",
    "\n",
    "### Vectorization\n",
    "\n",
    "| document   | the | cat | sat | dog | and | killed |\n",
    "|----|-----|-----|-----|-----|-----|--------|\n",
    "| d1 | .25   | .25   | .33   | .33   | .33   | 0      |\n",
    "| d2 | .25   | .25   | .33   | .33   | .33   | 0      |\n",
    "| d3 | .25   | .25   | .67   | 0   | .33   | 0      |\n",
    "| d4 | .5   | .25   | 0   | .33   | 0   | 1.00      |"
   ]
  },
  {
   "cell_type": "markdown",
   "metadata": {
    "colab_type": "text",
    "id": "qpjGSDn8KRC1"
   },
   "source": [
    "# Word2Vec Intuition"
   ]
  },
  {
   "cell_type": "markdown",
   "metadata": {
    "colab_type": "text",
    "id": "VEj8fEfMfSLT"
   },
   "source": [
    "## The Distribution Hypothesis\n",
    "\n",
    "In order to understand how Word2Vec preserves textual context we have to understand what's called the Distribution Hypothesis (Reference: Distribution Hypothesis Theory  -https://en.wikipedia.org/wiki/Distributional_semantics. The Distribution Hypothesis operates under the assumption that words that have similar contexts will have similar meanings. Practically speaking, this means that if two words are found to have similar words both to the right and to the left of them throughout the corpora then those words have the same context and are assumed to have the same meaning. \n",
    "\n",
    "> \"You shall know a word by the company it keeps\" - John Firth\n",
    "\n",
    "This means that we let the usage of a word define its meaning and its \"similarity\" to other words. In the following example, which words would you say have a similar meaning? \n",
    "\n",
    "**Sentence 1**: Traffic was light today\n",
    "\n",
    "**Sentence 2**: Traffic was heavy yesterday\n",
    "\n",
    "**Sentence 3**: Prediction is that traffic will be smooth-flowing tomorrow since it is a national holiday\n",
    "\n",
    "What words in the above sentences seem to have a similar meaning if all you knew about them was the context in which they appeared above? \n",
    "\n",
    "Lets take a look at how this might work in action, the following example is simplified, but will give you an idea of the intuition for how this works.\n",
    "\n",
    "### Corpora:\n",
    "\n",
    "1) \"It was the sunniest of days.\"\n",
    "\n",
    "2) \"It was the raniest of days.\"\n",
    "\n",
    "### Vocabulary:\n",
    "\n",
    "{\"it\": 1, \"was\": 2, \"the\": 3, \"of\": 4, \"days\": 5, \"sunniest\": 6, \"raniest\": 7}\n",
    "\n",
    "### Vectorization\n",
    "\n",
    "|       doc   | START_was | it_the | was_sunniest | the_of | sunniest_days | of_it | days_was | it_the | was_raniest | raniest_days | of_END |\n",
    "|----------|-----------|--------|--------------|--------|---------------|-------|----------|--------|-------------|--------------|--------|\n",
    "| it       | 1         | 0      | 0            | 0      | 0             | 0     | 1        | 0      | 0           | 0            | 0      |\n",
    "| was      | 0         | 1      | 0            | 0      | 0             | 0     | 0        | 1      | 0           | 0            | 0      |\n",
    "| the      | 0         | 0      | 1            | 0      | 0             | 0     | 0        | 0      | 1           | 0            | 0      |\n",
    "| sunniest | 0         | 0      | 0            | 1      | 0             | 0     | 0        | 0      | 0           | 0            | 0      |\n",
    "| of       | 0         | 0      | 0            | 0      | 1             | 0     | 0        | 0      | 0           | 1            | 0      |\n",
    "| days     | 0         | 0      | 0            | 0      | 0             | 0     | 0        | 0      | 0           | 0            | 1      |\n",
    "| raniest  | 0         | 0      | 0            | 1      | 0             | 0     | 0        | 0      | 0           | 0            | 0      |\n",
    "\n",
    "Each column vector represents the word's context -in this case defined by the words to the left and right of the center word. How far we look to the left and right of a given word is referred to as our \"window of context.\" Each row vector represents the the different usages of a given word. Word2Vec can consider a larger context than only words that are immediately to the left and right of a given word, but we're going to keep our window of context small for this example. What's most important is that this vectorization has translated our documents from a text representation to a numeric one in a way that preserves information about the underlying context. \n",
    "\n",
    "We can see that words that have a similar context will have similar row-vector representations, but before looking that more in-depth, lets simplify our vectorization slightly. You'll notice that we're repeating the column-vector \"it_the\" twice. Lets combine those into a single vector by adding them element-wise. \n",
    "\n",
    "|       *   | START_was | it_the | was_sunniest | the_of | sunniest_days | of_it | days_was | was_raniest | raniest_days | of_END |\n",
    "|----------|-----------|--------|--------------|--------|---------------|-------|----------|-------------|--------------|--------|\n",
    "| it       | 1         | 0      | 0            | 0      | 0             | 0     | 1        | 0           | 0            | 0      |\n",
    "| was      | 0         | 2      | 0            | 0      | 0             | 0     | 0        | 0           | 0            | 0      |\n",
    "| the      | 0         | 0      | 1            | 0      | 0             | 0     | 0        | 1           | 0            | 0      |\n",
    "| sunniest | 0         | 0      | 0            | 1      | 0             | 0     | 0        | 0           | 0            | 0      |\n",
    "| of       | 0         | 0      | 0            | 0      | 1             | 0     | 0        | 0           | 1            | 0      |\n",
    "| days     | 0         | 0      | 0            | 0      | 0             | 0     | 0        | 0           | 0            | 1      |\n",
    "| raniest  | 0         | 0      | 0            | 1      | 0             | 0     | 0        | 0           | 0            | 0      |\n",
    "\n",
    "Now, can you spot which words have a similar row-vector representation? Hint: Look for values that are repeated in a given column. Each column represents the context that word was found in. If there are multiple words that share a context then those words are understood to have a closer meaning with each other than with other words in the text.\n",
    "\n",
    "Lets look specifically at the words sunniest and raniest. You'll notice that these two words have exactly the same 10-dimensional vector representation. Based on this very small corpora of text we would conclude that these two words have the same meaning because they share the same usage. Is this a good assumption? Well, they are both referring to the weather outside so that's better than nothing. You could imagine that as our corpora grows larger we will be exposed a greater number of contexts and the Distribution Hypothesis assumption will improve. "
   ]
  },
  {
   "cell_type": "markdown",
   "metadata": {
    "colab_type": "text",
    "id": "fb6uzFSEq7xH"
   },
   "source": [
    "# Word2Vec Variants"
   ]
  },
  {
   "cell_type": "markdown",
   "metadata": {
    "colab_type": "text",
    "id": "4FO0E-ODq6cu"
   },
   "source": [
    "## Skip-Gram\n",
    "\n",
    "The Skip-Gram method predicts the neighbors’ of a word given a center word. In the skip-gram model, we take a center word and a window of context (neighbors) words to train the model and then predict context words out to some window size for each center word.\n",
    "\n",
    "This notion of “context” or “neighboring” words is best described by considering a center word and a window of words around it. \n",
    "\n",
    "For example, if we consider the sentence **“The speedy Porsche drove past the elegant Rolls-Royce”** and a window size of 2, we’d have the following pairs for the skip-gram model:\n",
    "\n",
    "**Text:**\n",
    "**The**\tspeedy\tPorsche\tdrove\tpast\tthe\telegant\tRolls-Royce\n",
    "\n",
    "*Training Sample with window of 2*: (the, speedy), (the, Porsche)\n",
    "\n",
    "**Text:**\n",
    "The\t**speedy**\tPorsche\tdrove\tpast\tthe\telegant\tRolls-Royce\n",
    "\n",
    "*Training Sample with window of 2*: (speedy, the), (speedy, Porsche), (speedy, drove)\n",
    "\n",
    "**Text:**\n",
    "The\tspeedy\t**Porsche**\tdrove\tpast\tthe\telegant\tRolls-Royce\n",
    "\n",
    "*Training Sample with window of 2*: (Porsche, the), (Porsche, speedy), (Porsche, drove), (Porsche, past)\n",
    "\n",
    "**Text:**\n",
    "The\tspeedy\tPorsche\t**drove**\tpast\tthe\telegant\tRolls-Royce\n",
    "\n",
    "*Training Sample with window of 2*: (drove, speedy), (drove, Porsche), (drove, past), (drove, the)\n",
    "\n",
    "The **Skip-gram model** is going to output a probability distribution i.e. the probability of a word appearing in context given a center word and we are going to select the vector representation that maximizes the probability.\n",
    "\n",
    "With CountVectorizer and TF-IDF the best we could do for context was to look at common bi-grams and tri-grams (n-grams). Well, skip-grams go far beyond that and give our model much stronger contextual information.\n"
   ]
  },
  {
   "cell_type": "markdown",
   "metadata": {
    "colab_type": "text",
    "id": "_l1YXneCuXbK"
   },
   "source": [
    "![alt text](https://www.dropbox.com/s/c7mwy6dk9k99bgh/Image%202%20-%20SkipGrams.jpg?raw=1)"
   ]
  },
  {
   "cell_type": "markdown",
   "metadata": {
    "colab_type": "text",
    "id": "C3dIDj_nq6Jk"
   },
   "source": [
    "## Continuous Bag of Words\n",
    "\n",
    "This model takes thes opposite approach from the skip-gram model in that it tries to predict a center word based on the neighboring words. In the case of the CBOW model, we input the context words within the window (such as “the”, “Proshe”, “drove”) and aim to predict the target or center word “speedy” (the input to the prediction pipeline is reversed as compared to the SkipGram model).\n",
    "\n",
    "A graphical depiction of the input to output prediction pipeline for both variants of the Word2vec model is attached. The graphical depiction will help crystallize the difference between SkipGrams and Continuous Bag of Words."
   ]
  },
  {
   "cell_type": "markdown",
   "metadata": {
    "colab_type": "text",
    "id": "3UhXo4bAu0R9"
   },
   "source": [
    "![alt text](https://www.dropbox.com/s/k3ddmbtd52wq2li/Image%203%20-%20CBOW%20Model.jpg?raw=1)"
   ]
  },
  {
   "cell_type": "markdown",
   "metadata": {
    "colab_type": "text",
    "id": "0E2GZra0y6t-"
   },
   "source": [
    "## Notable Differences between Word Embedding methods:\n",
    "\n",
    "1) W2V focuses less document topic-modeling. You'll notice that the vectorizations don't really retain much information about the original document that the information came from. At least not in our examples.\n",
    "\n",
    "2) W2V can result in really large and complex vectorizations. In fact, you need Deep Neural Networks to train your Word2Vec models from scratch, but we can use helpful pretrained embeddings (thank you Google) to do really cool things!"
   ]
  },
  {
   "cell_type": "markdown",
   "metadata": {
    "colab_type": "text",
    "id": "U4_aXU-T04Uj"
   },
   "source": [
    "# Example 1: Make Up Some Data"
   ]
  },
  {
   "cell_type": "code",
   "execution_count": 21,
   "metadata": {},
   "outputs": [],
   "source": [
    "# !pip install -U gensim"
   ]
  },
  {
   "cell_type": "code",
   "execution_count": 13,
   "metadata": {
    "colab": {
     "base_uri": "https://localhost:8080/",
     "height": 4524
    },
    "colab_type": "code",
    "id": "M4obR_by1PA2",
    "outputId": "514518b4-9e28-46b4-fc0a-f10270233e79"
   },
   "outputs": [],
   "source": [
    "# Downloading all of nltk like a madman\n",
    "\n",
    "# import nltk\n",
    "# nltk.download('all')"
   ]
  },
  {
   "cell_type": "code",
   "execution_count": 1,
   "metadata": {},
   "outputs": [],
   "source": [
    "from nltk.tokenize import word_tokenize\n",
    "from gensim.models.word2vec import Word2Vec"
   ]
  },
  {
   "cell_type": "markdown",
   "metadata": {
    "colab_type": "text",
    "id": "Wu4EGi1X16yH"
   },
   "source": [
    "### 1. Tokenize documents"
   ]
  },
  {
   "cell_type": "code",
   "execution_count": 2,
   "metadata": {
    "colab": {
     "base_uri": "https://localhost:8080/",
     "height": 55
    },
    "colab_type": "code",
    "id": "P16eyp0x1WfJ",
    "outputId": "89e90272-b585-447f-8734-96a829f40799"
   },
   "outputs": [
    {
     "name": "stdout",
     "output_type": "stream",
     "text": [
      "[['The', 'dog', 'ran', 'up', 'the', 'steps', 'and', 'entered', 'the', 'owner', \"'s\", 'room', 'to', 'check', 'if', 'the', 'owner', 'was', 'in', 'the', 'room', '.'], ['My', 'name', 'is', 'Chris', ',', 'commander', 'Machine', 'Learning', '.'], ['I', 'am', 'writing', 'some', 'notes', 'for', 'my', 'Machine', 'Learning', 'program', 'and', 'will', 'be', 'studying', 'them', 'in', 'the', 'future', '.'], ['Machine', 'Learning', 'is', 'one', 'of', 'my', 'favorite', 'subjects', '.'], ['I', 'am', 'excited', 'about', 'taking', 'Machine', 'Learning', 'classes', '.'], ['When', 'does', 'the', 'Machine', 'Learning', 'program', 'kick-off', '?'], ['The', 'batter', 'hit', 'the', 'ball', 'out', 'off', 'AT', '&', 'T', 'park', 'into', 'the', 'pacific', 'ocean', '.'], ['The', 'pitcher', 'threw', 'the', 'ball', 'into', 'the', 'dug-out', '.']]\n"
     ]
    }
   ],
   "source": [
    "raw_content = [\n",
    "    'The dog ran up the steps and entered the owner\\'s room to check if the owner was in the room.',\n",
    "    'My name is Chris, commander Machine Learning.',\n",
    "    'I am writing some notes for my Machine Learning program and will be studying them in the future.',\n",
    "    'Machine Learning is one of my favorite subjects.',\n",
    "    'I am excited about taking Machine Learning classes.',\n",
    "    'When does the Machine Learning program kick-off?',\n",
    "    'The batter hit the ball out off AT&T park into the pacific ocean.',\n",
    "    'The pitcher threw the ball into the dug-out.'\n",
    "]\n",
    "\n",
    "sentences = [word_tokenize(text) for text in raw_content]\n",
    "print(sentences)"
   ]
  },
  {
   "cell_type": "markdown",
   "metadata": {
    "colab_type": "text",
    "id": "XOUS7Ebv2WMF"
   },
   "source": [
    "### 2. Train the Word2vec model with tokenized content \n",
    "\n",
    "Size of the word vectors is 5; the word should show-up at least once in the raw content."
   ]
  },
  {
   "cell_type": "code",
   "execution_count": 3,
   "metadata": {
    "colab": {
     "base_uri": "https://localhost:8080/",
     "height": 9675
    },
    "colab_type": "code",
    "id": "lLROR4wy2hzS",
    "outputId": "e7656a83-cfbb-4d61-b57b-8c190c65366f"
   },
   "outputs": [],
   "source": [
    "# help(Word2Vec)"
   ]
  },
  {
   "cell_type": "code",
   "execution_count": null,
   "metadata": {
    "colab": {
     "base_uri": "https://localhost:8080/",
     "height": 1993
    },
    "colab_type": "code",
    "id": "onLDHJzM2lAx",
    "outputId": "1061e1f8-a37e-4ce9-b605-6f89c4732d3f"
   },
   "outputs": [],
   "source": [
    "model = Word2Vec(sentences, min_count=1, size=5)"
   ]
  },
  {
   "cell_type": "code",
   "execution_count": 6,
   "metadata": {
    "colab": {
     "base_uri": "https://localhost:8080/",
     "height": 1993
    },
    "colab_type": "code",
    "id": "onLDHJzM2lAx",
    "outputId": "1061e1f8-a37e-4ce9-b605-6f89c4732d3f"
   },
   "outputs": [
    {
     "data": {
      "text/plain": [
       "['__class__',\n",
       " '__contains__',\n",
       " '__delattr__',\n",
       " '__dict__',\n",
       " '__dir__',\n",
       " '__doc__',\n",
       " '__eq__',\n",
       " '__format__',\n",
       " '__ge__',\n",
       " '__getattribute__',\n",
       " '__getitem__',\n",
       " '__gt__',\n",
       " '__hash__',\n",
       " '__init__',\n",
       " '__init_subclass__',\n",
       " '__le__',\n",
       " '__lt__',\n",
       " '__module__',\n",
       " '__ne__',\n",
       " '__new__',\n",
       " '__reduce__',\n",
       " '__reduce_ex__',\n",
       " '__repr__',\n",
       " '__setattr__',\n",
       " '__sizeof__',\n",
       " '__str__',\n",
       " '__subclasshook__',\n",
       " '__weakref__',\n",
       " '_adapt_by_suffix',\n",
       " '_check_input_data_sanity',\n",
       " '_check_training_sanity',\n",
       " '_clear_post_train',\n",
       " '_do_train_epoch',\n",
       " '_do_train_job',\n",
       " '_get_job_params',\n",
       " '_get_thread_working_mem',\n",
       " '_job_producer',\n",
       " '_load_specials',\n",
       " '_log_epoch_end',\n",
       " '_log_epoch_progress',\n",
       " '_log_progress',\n",
       " '_log_train_end',\n",
       " '_minimize_model',\n",
       " '_raw_word_count',\n",
       " '_save_specials',\n",
       " '_set_train_params',\n",
       " '_smart_save',\n",
       " '_train_epoch',\n",
       " '_train_epoch_corpusfile',\n",
       " '_update_job_params',\n",
       " '_worker_loop',\n",
       " '_worker_loop_corpusfile',\n",
       " 'accuracy',\n",
       " 'alpha',\n",
       " 'batch_words',\n",
       " 'build_vocab',\n",
       " 'build_vocab_from_freq',\n",
       " 'callbacks',\n",
       " 'cbow_mean',\n",
       " 'clear_sims',\n",
       " 'compute_loss',\n",
       " 'corpus_count',\n",
       " 'corpus_total_words',\n",
       " 'cum_table',\n",
       " 'delete_temporary_training_data',\n",
       " 'doesnt_match',\n",
       " 'epochs',\n",
       " 'estimate_memory',\n",
       " 'evaluate_word_pairs',\n",
       " 'get_latest_training_loss',\n",
       " 'hashfxn',\n",
       " 'hs',\n",
       " 'init_sims',\n",
       " 'intersect_word2vec_format',\n",
       " 'iter',\n",
       " 'layer1_size',\n",
       " 'load',\n",
       " 'load_word2vec_format',\n",
       " 'log_accuracy',\n",
       " 'max_final_vocab',\n",
       " 'min_alpha',\n",
       " 'min_alpha_yet_reached',\n",
       " 'min_count',\n",
       " 'model_trimmed_post_training',\n",
       " 'most_similar',\n",
       " 'most_similar_cosmul',\n",
       " 'n_similarity',\n",
       " 'neg_labels',\n",
       " 'negative',\n",
       " 'ns_exponent',\n",
       " 'predict_output_word',\n",
       " 'random',\n",
       " 'reset_from',\n",
       " 'running_training_loss',\n",
       " 'sample',\n",
       " 'save',\n",
       " 'save_word2vec_format',\n",
       " 'score',\n",
       " 'sg',\n",
       " 'similar_by_vector',\n",
       " 'similar_by_word',\n",
       " 'similarity',\n",
       " 'syn0_lockf',\n",
       " 'syn1',\n",
       " 'syn1neg',\n",
       " 'total_train_time',\n",
       " 'train',\n",
       " 'train_count',\n",
       " 'trainables',\n",
       " 'vector_size',\n",
       " 'vocabulary',\n",
       " 'window',\n",
       " 'wmdistance',\n",
       " 'workers',\n",
       " 'wv']"
      ]
     },
     "execution_count": 6,
     "metadata": {},
     "output_type": "execute_result"
    }
   ],
   "source": [
    "dir(model)"
   ]
  },
  {
   "cell_type": "code",
   "execution_count": 8,
   "metadata": {
    "colab": {
     "base_uri": "https://localhost:8080/",
     "height": 89
    },
    "colab_type": "code",
    "id": "0T9HgcX12lQx",
    "outputId": "06bdb999-3a6a-434f-f5ec-e333098fa4fb"
   },
   "outputs": [
    {
     "name": "stdout",
     "output_type": "stream",
     "text": [
      "Word2Vec(vocab=65, size=5, alpha=0.025)\n",
      "['The', 'dog', 'ran', 'up', 'the', 'steps', 'and', 'entered', 'owner', \"'s\", 'room', 'to', 'check', 'if', 'was', 'in', '.', 'My', 'name', 'is', 'Chris', ',', 'commander', 'Machine', 'Learning', 'I', 'am', 'writing', 'some', 'notes', 'for', 'my', 'program', 'will', 'be', 'studying', 'them', 'future', 'one', 'of', 'favorite', 'subjects', 'excited', 'about', 'taking', 'classes', 'When', 'does', 'kick-off', '?', 'batter', 'hit', 'ball', 'out', 'off', 'AT', '&', 'T', 'park', 'into', 'pacific', 'ocean', 'pitcher', 'threw', 'dug-out']\n",
      "65\n"
     ]
    }
   ],
   "source": [
    "print(model)\n",
    "print(list(model.wv.vocab))\n",
    "print(len(model.wv.vocab))"
   ]
  },
  {
   "cell_type": "markdown",
   "metadata": {
    "colab_type": "text",
    "id": "5Lf0qggR3YwL"
   },
   "source": [
    "### 3. Output vectors of words, make inferences"
   ]
  },
  {
   "cell_type": "code",
   "execution_count": 10,
   "metadata": {
    "colab": {
     "base_uri": "https://localhost:8080/",
     "height": 69
    },
    "colab_type": "code",
    "id": "MOEsKVo73dfP",
    "outputId": "1cf3fba7-897b-43e5-a222-e258ddff5de7"
   },
   "outputs": [
    {
     "name": "stdout",
     "output_type": "stream",
     "text": [
      "[[-0.01455817 -0.09070572  0.08787284  0.00839215  0.0876325 ]\n",
      " [-0.09030218  0.04419461  0.0456633   0.03922297  0.02325764]\n",
      " [ 0.00944903  0.09986275 -0.07029592 -0.07563546 -0.08952567]]\n"
     ]
    }
   ],
   "source": [
    "print(model.wv['Chris', 'ocean', 'pitcher'])"
   ]
  },
  {
   "cell_type": "code",
   "execution_count": 12,
   "metadata": {
    "colab": {
     "base_uri": "https://localhost:8080/",
     "height": 191
    },
    "colab_type": "code",
    "id": "SSoUaTCWt2DL",
    "outputId": "2dd83e38-4bab-4ffc-b36d-e43a0df147f6",
    "scrolled": true
   },
   "outputs": [
    {
     "data": {
      "text/plain": [
       "[('?', 0.9644386768341064),\n",
       " ('ocean', 0.9050692319869995),\n",
       " ('to', 0.9035050868988037),\n",
       " ('threw', 0.8381457924842834),\n",
       " ('subjects', 0.7785161733627319),\n",
       " ('notes', 0.7687627077102661),\n",
       " ('pacific', 0.7145735621452332),\n",
       " ('my', 0.7064499258995056),\n",
       " ('AT', 0.7051012516021729),\n",
       " ('park', 0.701203465461731)]"
      ]
     },
     "execution_count": 12,
     "metadata": {},
     "output_type": "execute_result"
    }
   ],
   "source": [
    "model.wv.most_similar('Learning')"
   ]
  },
  {
   "cell_type": "markdown",
   "metadata": {
    "colab_type": "text",
    "id": "_MrZHgVQ4vDy"
   },
   "source": [
    "## Example 2: 20 newsgroups text dataset"
   ]
  },
  {
   "cell_type": "code",
   "execution_count": 18,
   "metadata": {},
   "outputs": [],
   "source": [
    "import string\n",
    "\n",
    "from nltk.tokenize import word_tokenize\n",
    "from gensim.models.word2vec import Word2Vec\n",
    "from sklearn.datasets import fetch_20newsgroups"
   ]
  },
  {
   "cell_type": "markdown",
   "metadata": {
    "colab_type": "text",
    "id": "_MrZHgVQ4vDy"
   },
   "source": [
    "Now we are going to train the model with more data - a larger corpus. Fetch the data from the training subset.\n",
    "\n",
    "*Reference*: http://scikit-learn.org/stable/datasets/index.html"
   ]
  },
  {
   "cell_type": "code",
   "execution_count": 14,
   "metadata": {
    "colab": {},
    "colab_type": "code",
    "id": "nPtvIrZQ4t_m"
   },
   "outputs": [
    {
     "name": "stderr",
     "output_type": "stream",
     "text": [
      "Downloading 20news dataset. This may take a few minutes.\n",
      "Downloading dataset from https://ndownloader.figshare.com/files/5975967 (14 MB)\n"
     ]
    }
   ],
   "source": [
    "text_from_corpus = fetch_20newsgroups(subset='train')"
   ]
  },
  {
   "cell_type": "markdown",
   "metadata": {
    "colab_type": "text",
    "id": "3txADKHg4y0y"
   },
   "source": [
    "Output the metadata for the data that is fetched (investigate the object and what you can do with it)"
   ]
  },
  {
   "cell_type": "code",
   "execution_count": 16,
   "metadata": {
    "colab": {
     "base_uri": "https://localhost:8080/",
     "height": 4111
    },
    "colab_type": "code",
    "id": "_DFfIq1M3GBg",
    "outputId": "f3776d7f-f89f-4f55-b74b-086c70df2932"
   },
   "outputs": [
    {
     "name": "stdout",
     "output_type": "stream",
     "text": [
      "['DESCR', 'data', 'filenames', 'target', 'target_names']\n",
      ".. _20newsgroups_dataset:\n",
      "\n",
      "The 20 newsgroups text dataset\n",
      "------------------------------\n",
      "\n",
      "The 20 newsgroups dataset comprises around 18000 newsgroups posts on\n",
      "20 topics split in two subsets: one for training (or development)\n",
      "and the other one for testing (or for performance evaluation). The split\n",
      "between the train and test set is based upon a messages posted before\n",
      "and after a specific date.\n",
      "\n",
      "This module contains two loaders. The first one,\n",
      ":func:`sklearn.datasets.fetch_20newsgroups`,\n",
      "returns a list of the raw texts that can be fed to text feature\n",
      "extractors such as :class:`sklearn.feature_extraction.text.CountVectorizer`\n",
      "with custom parameters so as to extract feature vectors.\n",
      "The second one, :func:`sklearn.datasets.fetch_20newsgroups_vectorized`,\n",
      "returns ready-to-use features, i.e., it is not necessary to use a feature\n",
      "extractor.\n",
      "\n",
      "**Data Set Characteristics:**\n",
      "\n",
      "    =================   ==========\n",
      "    Classes                     20\n",
      "    Samples total            18846\n",
      "    Dimensionality               1\n",
      "    Features                  text\n",
      "    =================   ==========\n",
      "\n",
      "Usage\n",
      "~~~~~\n",
      "\n",
      "The :func:`sklearn.datasets.fetch_20newsgroups` function is a data\n",
      "fetching / caching functions that downloads the data archive from\n",
      "the original `20 newsgroups website`_, extracts the archive contents\n",
      "in the ``~/scikit_learn_data/20news_home`` folder and calls the\n",
      ":func:`sklearn.datasets.load_files` on either the training or\n",
      "testing set folder, or both of them::\n",
      "\n",
      "  >>> from sklearn.datasets import fetch_20newsgroups\n",
      "  >>> newsgroups_train = fetch_20newsgroups(subset='train')\n",
      "\n",
      "  >>> from pprint import pprint\n",
      "  >>> pprint(list(newsgroups_train.target_names))\n",
      "  ['alt.atheism',\n",
      "   'comp.graphics',\n",
      "   'comp.os.ms-windows.misc',\n",
      "   'comp.sys.ibm.pc.hardware',\n",
      "   'comp.sys.mac.hardware',\n",
      "   'comp.windows.x',\n",
      "   'misc.forsale',\n",
      "   'rec.autos',\n",
      "   'rec.motorcycles',\n",
      "   'rec.sport.baseball',\n",
      "   'rec.sport.hockey',\n",
      "   'sci.crypt',\n",
      "   'sci.electronics',\n",
      "   'sci.med',\n",
      "   'sci.space',\n",
      "   'soc.religion.christian',\n",
      "   'talk.politics.guns',\n",
      "   'talk.politics.mideast',\n",
      "   'talk.politics.misc',\n",
      "   'talk.religion.misc']\n",
      "\n",
      "The real data lies in the ``filenames`` and ``target`` attributes. The target\n",
      "attribute is the integer index of the category::\n",
      "\n",
      "  >>> newsgroups_train.filenames.shape\n",
      "  (11314,)\n",
      "  >>> newsgroups_train.target.shape\n",
      "  (11314,)\n",
      "  >>> newsgroups_train.target[:10]\n",
      "  array([ 7,  4,  4,  1, 14, 16, 13,  3,  2,  4])\n",
      "\n",
      "It is possible to load only a sub-selection of the categories by passing the\n",
      "list of the categories to load to the\n",
      ":func:`sklearn.datasets.fetch_20newsgroups` function::\n",
      "\n",
      "  >>> cats = ['alt.atheism', 'sci.space']\n",
      "  >>> newsgroups_train = fetch_20newsgroups(subset='train', categories=cats)\n",
      "\n",
      "  >>> list(newsgroups_train.target_names)\n",
      "  ['alt.atheism', 'sci.space']\n",
      "  >>> newsgroups_train.filenames.shape\n",
      "  (1073,)\n",
      "  >>> newsgroups_train.target.shape\n",
      "  (1073,)\n",
      "  >>> newsgroups_train.target[:10]\n",
      "  array([0, 1, 1, 1, 0, 1, 1, 0, 0, 0])\n",
      "\n",
      "Converting text to vectors\n",
      "~~~~~~~~~~~~~~~~~~~~~~~~~~\n",
      "\n",
      "In order to feed predictive or clustering models with the text data,\n",
      "one first need to turn the text into vectors of numerical values suitable\n",
      "for statistical analysis. This can be achieved with the utilities of the\n",
      "``sklearn.feature_extraction.text`` as demonstrated in the following\n",
      "example that extract `TF-IDF`_ vectors of unigram tokens\n",
      "from a subset of 20news::\n",
      "\n",
      "  >>> from sklearn.feature_extraction.text import TfidfVectorizer\n",
      "  >>> categories = ['alt.atheism', 'talk.religion.misc',\n",
      "  ...               'comp.graphics', 'sci.space']\n",
      "  >>> newsgroups_train = fetch_20newsgroups(subset='train',\n",
      "  ...                                       categories=categories)\n",
      "  >>> vectorizer = TfidfVectorizer()\n",
      "  >>> vectors = vectorizer.fit_transform(newsgroups_train.data)\n",
      "  >>> vectors.shape\n",
      "  (2034, 34118)\n",
      "\n",
      "The extracted TF-IDF vectors are very sparse, with an average of 159 non-zero\n",
      "components by sample in a more than 30000-dimensional space\n",
      "(less than .5% non-zero features)::\n",
      "\n",
      "  >>> vectors.nnz / float(vectors.shape[0])       # doctest: +ELLIPSIS\n",
      "  159.01327...\n",
      "\n",
      ":func:`sklearn.datasets.fetch_20newsgroups_vectorized` is a function which \n",
      "returns ready-to-use token counts features instead of file names.\n",
      "\n",
      ".. _`20 newsgroups website`: http://people.csail.mit.edu/jrennie/20Newsgroups/\n",
      ".. _`TF-IDF`: https://en.wikipedia.org/wiki/Tf-idf\n",
      "\n",
      "\n",
      "Filtering text for more realistic training\n",
      "~~~~~~~~~~~~~~~~~~~~~~~~~~~~~~~~~~~~~~~~~~\n",
      "\n",
      "It is easy for a classifier to overfit on particular things that appear in the\n",
      "20 Newsgroups data, such as newsgroup headers. Many classifiers achieve very\n",
      "high F-scores, but their results would not generalize to other documents that\n",
      "aren't from this window of time.\n",
      "\n",
      "For example, let's look at the results of a multinomial Naive Bayes classifier,\n",
      "which is fast to train and achieves a decent F-score::\n",
      "\n",
      "  >>> from sklearn.naive_bayes import MultinomialNB\n",
      "  >>> from sklearn import metrics\n",
      "  >>> newsgroups_test = fetch_20newsgroups(subset='test',\n",
      "  ...                                      categories=categories)\n",
      "  >>> vectors_test = vectorizer.transform(newsgroups_test.data)\n",
      "  >>> clf = MultinomialNB(alpha=.01)\n",
      "  >>> clf.fit(vectors, newsgroups_train.target)\n",
      "  MultinomialNB(alpha=0.01, class_prior=None, fit_prior=True)\n",
      "\n",
      "  >>> pred = clf.predict(vectors_test)\n",
      "  >>> metrics.f1_score(newsgroups_test.target, pred, average='macro')  # doctest: +ELLIPSIS\n",
      "  0.88213...\n",
      "\n",
      "(The example :ref:`sphx_glr_auto_examples_text_plot_document_classification_20newsgroups.py` shuffles\n",
      "the training and test data, instead of segmenting by time, and in that case\n",
      "multinomial Naive Bayes gets a much higher F-score of 0.88. Are you suspicious\n",
      "yet of what's going on inside this classifier?)\n",
      "\n",
      "Let's take a look at what the most informative features are:\n",
      "\n",
      "  >>> import numpy as np\n",
      "  >>> def show_top10(classifier, vectorizer, categories):\n",
      "  ...     feature_names = np.asarray(vectorizer.get_feature_names())\n",
      "  ...     for i, category in enumerate(categories):\n",
      "  ...         top10 = np.argsort(classifier.coef_[i])[-10:]\n",
      "  ...         print(\"%s: %s\" % (category, \" \".join(feature_names[top10])))\n",
      "  ...\n",
      "  >>> show_top10(clf, vectorizer, newsgroups_train.target_names)\n",
      "  alt.atheism: edu it and in you that is of to the\n",
      "  comp.graphics: edu in graphics it is for and of to the\n",
      "  sci.space: edu it that is in and space to of the\n",
      "  talk.religion.misc: not it you in is that and to of the\n",
      "\n",
      "\n",
      "You can now see many things that these features have overfit to:\n",
      "\n",
      "- Almost every group is distinguished by whether headers such as\n",
      "  ``NNTP-Posting-Host:`` and ``Distribution:`` appear more or less often.\n",
      "- Another significant feature involves whether the sender is affiliated with\n",
      "  a university, as indicated either by their headers or their signature.\n",
      "- The word \"article\" is a significant feature, based on how often people quote\n",
      "  previous posts like this: \"In article [article ID], [name] <[e-mail address]>\n",
      "  wrote:\"\n",
      "- Other features match the names and e-mail addresses of particular people who\n",
      "  were posting at the time.\n",
      "\n",
      "With such an abundance of clues that distinguish newsgroups, the classifiers\n",
      "barely have to identify topics from text at all, and they all perform at the\n",
      "same high level.\n",
      "\n",
      "For this reason, the functions that load 20 Newsgroups data provide a\n",
      "parameter called **remove**, telling it what kinds of information to strip out\n",
      "of each file. **remove** should be a tuple containing any subset of\n",
      "``('headers', 'footers', 'quotes')``, telling it to remove headers, signature\n",
      "blocks, and quotation blocks respectively.\n",
      "\n",
      "  >>> newsgroups_test = fetch_20newsgroups(subset='test',\n",
      "  ...                                      remove=('headers', 'footers', 'quotes'),\n",
      "  ...                                      categories=categories)\n",
      "  >>> vectors_test = vectorizer.transform(newsgroups_test.data)\n",
      "  >>> pred = clf.predict(vectors_test)\n",
      "  >>> metrics.f1_score(pred, newsgroups_test.target, average='macro')  # doctest: +ELLIPSIS\n",
      "  0.77310...\n",
      "\n",
      "This classifier lost over a lot of its F-score, just because we removed\n",
      "metadata that has little to do with topic classification.\n",
      "It loses even more if we also strip this metadata from the training data:\n",
      "\n",
      "  >>> newsgroups_train = fetch_20newsgroups(subset='train',\n",
      "  ...                                       remove=('headers', 'footers', 'quotes'),\n",
      "  ...                                       categories=categories)\n",
      "  >>> vectors = vectorizer.fit_transform(newsgroups_train.data)\n",
      "  >>> clf = MultinomialNB(alpha=.01)\n",
      "  >>> clf.fit(vectors, newsgroups_train.target)\n",
      "  MultinomialNB(alpha=0.01, class_prior=None, fit_prior=True)\n",
      "\n",
      "  >>> vectors_test = vectorizer.transform(newsgroups_test.data)\n",
      "  >>> pred = clf.predict(vectors_test)\n",
      "  >>> metrics.f1_score(newsgroups_test.target, pred, average='macro')  # doctest: +ELLIPSIS\n",
      "  0.76995...\n",
      "\n",
      "Some other classifiers cope better with this harder version of the task. Try\n",
      "running :ref:`sphx_glr_auto_examples_model_selection_grid_search_text_feature_extraction.py` with and without\n",
      "the ``--filter`` option to compare the results.\n",
      "\n",
      ".. topic:: Recommendation\n",
      "\n",
      "  When evaluating text classifiers on the 20 Newsgroups data, you\n",
      "  should strip newsgroup-related metadata. In scikit-learn, you can do this by\n",
      "  setting ``remove=('headers', 'footers', 'quotes')``. The F-score will be\n",
      "  lower because it is more realistic.\n",
      "\n",
      ".. topic:: Examples\n",
      "\n",
      "   * :ref:`sphx_glr_auto_examples_model_selection_grid_search_text_feature_extraction.py`\n",
      "\n",
      "   * :ref:`sphx_glr_auto_examples_text_plot_document_classification_20newsgroups.py`\n",
      "\n"
     ]
    }
   ],
   "source": [
    "print(dir(text_from_corpus))\n",
    "print(text_from_corpus.DESCR)"
   ]
  },
  {
   "cell_type": "markdown",
   "metadata": {
    "colab_type": "text",
    "id": "XSo_K_kf41In"
   },
   "source": [
    "How much data are we talkin' bout? "
   ]
  },
  {
   "cell_type": "code",
   "execution_count": 17,
   "metadata": {
    "colab": {
     "base_uri": "https://localhost:8080/",
     "height": 35
    },
    "colab_type": "code",
    "id": "iipBeTFn42hR",
    "outputId": "859407f5-6264-40ac-e11e-cc9b927f3d00"
   },
   "outputs": [
    {
     "data": {
      "text/plain": [
       "11314"
      ]
     },
     "execution_count": 17,
     "metadata": {},
     "output_type": "execute_result"
    }
   ],
   "source": [
    "len(text_from_corpus.data)"
   ]
  },
  {
   "cell_type": "markdown",
   "metadata": {
    "colab_type": "text",
    "id": "cuLsOvJN5UOJ"
   },
   "source": [
    "### 1. Tokenize"
   ]
  },
  {
   "cell_type": "code",
   "execution_count": 19,
   "metadata": {
    "colab": {
     "base_uri": "https://localhost:8080/",
     "height": 55
    },
    "colab_type": "code",
    "id": "iOUe5zSC5U0M",
    "outputId": "8754ca18-ff45-4e82-8a4d-9928acbc5835"
   },
   "outputs": [
    {
     "name": "stdout",
     "output_type": "stream",
     "text": [
      "[['from', 'lerxstwamumdedu', 'wheres', 'my', 'thing', 'subject', 'what', 'car', 'is', 'this', 'nntppostinghost', 'rac3wamumdedu', 'organization', 'university', 'of', 'maryland', 'college', 'park', 'lines', '15', 'i', 'was', 'wondering', 'if', 'anyone', 'out', 'there', 'could', 'enlighten', 'me', 'on', 'this', 'car', 'i', 'saw', 'the', 'other', 'day', 'it', 'was', 'a', '2door', 'sports', 'car', 'looked', 'to', 'be', 'from', 'the', 'late', '60s', 'early', '70s', 'it', 'was', 'called', 'a', 'bricklin', 'the', 'doors', 'were', 'really', 'small', 'in', 'addition', 'the', 'front', 'bumper', 'was', 'separate', 'from', 'the', 'rest', 'of', 'the', 'body', 'this', 'is', 'all', 'i', 'know', 'if', 'anyone', 'can', 'tellme', 'a', 'model', 'name', 'engine', 'specs', 'years', 'of', 'production', 'where', 'this', 'car', 'is', 'made', 'history', 'or', 'whatever', 'info', 'you', 'have', 'on', 'this', 'funky', 'looking', 'car', 'please', 'email', 'thanks', 'il', 'brought', 'to', 'you', 'by', 'your', 'neighborhood', 'lerxst'], ['from', 'guykuocarsonuwashingtonedu', 'guy', 'kuo', 'subject', 'si', 'clock', 'poll', 'final', 'call', 'summary', 'final', 'call', 'for', 'si', 'clock', 'reports', 'keywords', 'siaccelerationclockupgrade', 'articleid', 'shelley1qvfo9innc3s', 'organization', 'university', 'of', 'washington', 'lines', '11', 'nntppostinghost', 'carsonuwashingtonedu', 'a', 'fair', 'number', 'of', 'brave', 'souls', 'who', 'upgraded', 'their', 'si', 'clock', 'oscillator', 'have', 'shared', 'their', 'experiences', 'for', 'this', 'poll', 'please', 'send', 'a', 'brief', 'message', 'detailing', 'your', 'experiences', 'with', 'the', 'procedure', 'top', 'speed', 'attained', 'cpu', 'rated', 'speed', 'add', 'on', 'cards', 'and', 'adapters', 'heat', 'sinks', 'hour', 'of', 'usage', 'per', 'day', 'floppy', 'disk', 'functionality', 'with', '800', 'and', '14', 'm', 'floppies', 'are', 'especially', 'requested', 'i', 'will', 'be', 'summarizing', 'in', 'the', 'next', 'two', 'days', 'so', 'please', 'add', 'to', 'the', 'network', 'knowledge', 'base', 'if', 'you', 'have', 'done', 'the', 'clock', 'upgrade', 'and', 'havent', 'answered', 'this', 'poll', 'thanks', 'guy', 'kuo', 'guykuouwashingtonedu'], ['from', 'twillisececnpurdueedu', 'thomas', 'e', 'willis', 'subject', 'pb', 'questions', 'organization', 'purdue', 'university', 'engineering', 'computer', 'network', 'distribution', 'usa', 'lines', '36', 'well', 'folks', 'my', 'mac', 'plus', 'finally', 'gave', 'up', 'the', 'ghost', 'this', 'weekend', 'after', 'starting', 'life', 'as', 'a', '512k', 'way', 'back', 'in', '1985', 'sooo', 'im', 'in', 'the', 'market', 'for', 'a', 'new', 'machine', 'a', 'bit', 'sooner', 'than', 'i', 'intended', 'to', 'be', 'im', 'looking', 'into', 'picking', 'up', 'a', 'powerbook', '160', 'or', 'maybe', '180', 'and', 'have', 'a', 'bunch', 'of', 'questions', 'that', 'hopefully', 'somebody', 'can', 'answer', 'does', 'anybody', 'know', 'any', 'dirt', 'on', 'when', 'the', 'next', 'round', 'of', 'powerbook', 'introductions', 'are', 'expected', 'id', 'heard', 'the', '185c', 'was', 'supposed', 'to', 'make', 'an', 'appearence', 'this', 'summer', 'but', 'havent', 'heard', 'anymore', 'on', 'it', 'and', 'since', 'i', 'dont', 'have', 'access', 'to', 'macleak', 'i', 'was', 'wondering', 'if', 'anybody', 'out', 'there', 'had', 'more', 'info', 'has', 'anybody', 'heard', 'rumors', 'about', 'price', 'drops', 'to', 'the', 'powerbook', 'line', 'like', 'the', 'ones', 'the', 'duos', 'just', 'went', 'through', 'recently', 'whats', 'the', 'impression', 'of', 'the', 'display', 'on', 'the', '180', 'i', 'could', 'probably', 'swing', 'a', '180', 'if', 'i', 'got', 'the', '80mb', 'disk', 'rather', 'than', 'the', '120', 'but', 'i', 'dont', 'really', 'have', 'a', 'feel', 'for', 'how', 'much', 'better', 'the', 'display', 'is', 'yea', 'it', 'looks', 'great', 'in', 'the', 'store', 'but', 'is', 'that', 'all', 'wow', 'or', 'is', 'it', 'really', 'that', 'good', 'could', 'i', 'solicit', 'some', 'opinions', 'of', 'people', 'who', 'use', 'the', '160', 'and', '180', 'daytoday', 'on', 'if', 'its', 'worth', 'taking', 'the', 'disk', 'size', 'and', 'money', 'hit', 'to', 'get', 'the', 'active', 'display', 'i', 'realize', 'this', 'is', 'a', 'real', 'subjective', 'question', 'but', 'ive', 'only', 'played', 'around', 'with', 'the', 'machines', 'in', 'a', 'computer', 'store', 'breifly', 'and', 'figured', 'the', 'opinions', 'of', 'somebody', 'who', 'actually', 'uses', 'the', 'machine', 'daily', 'might', 'prove', 'helpful', 'how', 'well', 'does', 'hellcats', 'perform', 'thanks', 'a', 'bunch', 'in', 'advance', 'for', 'any', 'info', 'if', 'you', 'could', 'email', 'ill', 'post', 'a', 'summary', 'news', 'reading', 'time', 'is', 'at', 'a', 'premium', 'with', 'finals', 'just', 'around', 'the', 'corner', 'tom', 'willis', 'twillisecnpurdueedu', 'purdue', 'electrical', 'engineering', 'convictions', 'are', 'more', 'dangerous', 'enemies', 'of', 'truth', 'than', 'lies', 'f', 'w', 'nietzsche'], ['from', 'jgreenamber', 'joe', 'green', 'subject', 're', 'weitek', 'p9000', 'organization', 'harris', 'computer', 'systems', 'division', 'lines', '14', 'distribution', 'world', 'nntppostinghost', 'amberssdcsdharriscom', 'xnewsreader', 'tin', 'version', '11', 'pl9', 'robert', 'jc', 'kyanko', 'robrjckuucp', 'wrote', 'abraxisiastateedu', 'writes', 'in', 'article', 'abraxis734340159class1iastateedu', 'anyone', 'know', 'about', 'the', 'weitek', 'p9000', 'graphics', 'chip', 'as', 'far', 'as', 'the', 'lowlevel', 'stuff', 'goes', 'it', 'looks', 'pretty', 'nice', 'its', 'got', 'this', 'quadrilateral', 'fill', 'command', 'that', 'requires', 'just', 'the', 'four', 'points', 'do', 'you', 'have', 'weiteks', 'addressphone', 'number', 'id', 'like', 'to', 'get', 'some', 'information', 'about', 'this', 'chip', 'joe', 'green', 'harris', 'corporation', 'jgreencsdharriscom', 'computer', 'systems', 'division', 'the', 'only', 'thing', 'that', 'really', 'scares', 'me', 'is', 'a', 'person', 'with', 'no', 'sense', 'of', 'humor', 'jonathan', 'winters'], ['from', 'jcmheadcfaharvardedu', 'jonathan', 'mcdowell', 'subject', 're', 'shuttle', 'launch', 'question', 'organization', 'smithsonian', 'astrophysical', 'observatory', 'cambridge', 'ma', 'usa', 'distribution', 'sci', 'lines', '23', 'from', 'article', 'c5owcbn3pworldstdcom', 'by', 'tombakerworldstdcom', 'tom', 'a', 'baker', 'in', 'article', 'c5jlwx4h91cscmuedu', 'etratttacs1ttuedu', 'pack', 'rat', 'writes', 'clear', 'caution', 'warning', 'memory', 'verify', 'no', 'unexpected', 'errors', 'i', 'am', 'wondering', 'what', 'an', 'expected', 'error', 'might', 'be', 'sorry', 'if', 'this', 'is', 'a', 'really', 'dumb', 'question', 'but', 'parity', 'errors', 'in', 'memory', 'or', 'previously', 'known', 'conditions', 'that', 'were', 'waivered', 'yes', 'that', 'is', 'an', 'error', 'but', 'we', 'already', 'knew', 'about', 'it', 'id', 'be', 'curious', 'as', 'to', 'what', 'the', 'real', 'meaning', 'of', 'the', 'quote', 'is', 'tom', 'my', 'understanding', 'is', 'that', 'the', 'expected', 'errors', 'are', 'basically', 'known', 'bugs', 'in', 'the', 'warning', 'system', 'software', 'things', 'are', 'checked', 'that', 'dont', 'have', 'the', 'right', 'values', 'in', 'yet', 'because', 'they', 'arent', 'set', 'till', 'after', 'launch', 'and', 'suchlike', 'rather', 'than', 'fix', 'the', 'code', 'and', 'possibly', 'introduce', 'new', 'bugs', 'they', 'just', 'tell', 'the', 'crew', 'ok', 'if', 'you', 'see', 'a', 'warning', 'no', '213', 'before', 'liftoff', 'ignore', 'it', 'jonathan'], ['from', 'dfovttoulutkovttfi', 'foxvog', 'douglas', 'subject', 're', 'rewording', 'the', 'second', 'amendment', 'ideas', 'organization', 'vtt', 'lines', '58', 'in', 'article', '1r1eu14ttransferstratuscom', 'cdtswstratuscom', 'c', 'd', 'tavares', 'writes', 'in', 'article', '1993apr2008305716899ousrvroulufi', 'dfovttoulutkovttfi', 'foxvog', 'douglas', 'writes', 'in', 'article', '1qv87v4j3transferstratuscom', 'cdtswstratuscom', 'c', 'd', 'tavares', 'writes', 'in', 'article', 'c5n3gif8fulowellulowelledu', 'jrutledgcsulowelledu', 'john', 'lawrence', 'rutledge', 'writes', 'the', 'massive', 'destructive', 'power', 'of', 'many', 'modern', 'weapons', 'makes', 'the', 'cost', 'of', 'an', 'accidental', 'or', 'crimial', 'usage', 'of', 'these', 'weapons', 'to', 'great', 'the', 'weapons', 'of', 'mass', 'destruction', 'need', 'to', 'be', 'in', 'the', 'control', 'of', 'the', 'government', 'only', 'individual', 'access', 'would', 'result', 'in', 'the', 'needless', 'deaths', 'of', 'millions', 'this', 'makes', 'the', 'right', 'of', 'the', 'people', 'to', 'keep', 'and', 'bear', 'many', 'modern', 'weapons', 'nonexistant', 'thanks', 'for', 'stating', 'where', 'youre', 'coming', 'from', 'needless', 'to', 'say', 'i', 'disagree', 'on', 'every', 'count', 'you', 'believe', 'that', 'individuals', 'should', 'have', 'the', 'right', 'to', 'own', 'weapons', 'of', 'mass', 'destruction', 'i', 'find', 'it', 'hard', 'to', 'believe', 'that', 'you', 'would', 'support', 'a', 'neighbors', 'right', 'to', 'keep', 'nuclear', 'weapons', 'biological', 'weapons', 'and', 'nerve', 'gas', 'on', 'hisher', 'property', 'if', 'we', 'can', 'not', 'even', 'agree', 'on', 'keeping', 'weapons', 'of', 'mass', 'destruction', 'out', 'of', 'the', 'hands', 'of', 'individuals', 'can', 'there', 'be', 'any', 'hope', 'for', 'us', 'i', 'dont', 'sign', 'any', 'blank', 'checks', 'of', 'course', 'the', 'term', 'must', 'be', 'rigidly', 'defined', 'in', 'any', 'bill', 'when', 'doug', 'foxvog', 'says', 'weapons', 'of', 'mass', 'destruction', 'he', 'means', 'cbw', 'and', 'nukes', 'when', 'sarah', 'brady', 'says', 'weapons', 'of', 'mass', 'destruction', 'she', 'means', 'street', 'sweeper', 'shotguns', 'and', 'semiautomatic', 'sks', 'rifles', 'i', 'doubt', 'she', 'uses', 'this', 'term', 'for', 'that', 'you', 'are', 'using', 'a', 'quote', 'allegedly', 'from', 'her', 'can', 'you', 'back', 'it', 'up', 'when', 'john', 'lawrence', 'rutledge', 'says', 'weapons', 'of', 'mass', 'destruction', 'and', 'then', 'immediately', 'follows', 'it', 'with', 'the', 'us', 'has', 'thousands', 'of', 'people', 'killed', 'each', 'year', 'by', 'handguns', 'this', 'number', 'can', 'easily', 'be', 'reduced', 'by', 'putting', 'reasonable', 'restrictions', 'on', 'them', 'what', 'does', 'rutledge', 'mean', 'by', 'the', 'term', 'i', 'read', 'the', 'article', 'as', 'presenting', 'first', 'an', 'argument', 'about', 'weapons', 'of', 'mass', 'destruction', 'as', 'commonly', 'understood', 'and', 'then', 'switching', 'to', 'other', 'topics', 'the', 'first', 'point', 'evidently', 'was', 'to', 'show', 'that', 'not', 'all', 'weapons', 'should', 'be', 'allowed', 'and', 'then', 'the', 'later', 'analysis', 'was', 'given', 'this', 'understanding', 'to', 'consider', 'another', 'class', 'cdtrocketswstratuscom', 'if', 'you', 'believe', 'that', 'i', 'speak', 'for', 'my', 'company', 'or', 'cdtvosstratuscom', 'write', 'today', 'for', 'my', 'special', 'investors', 'packet', 'doug', 'foxvog', 'douglasfoxvogvttfi'], ['from', 'bmdelanequadsuchicagoedu', 'brian', 'manning', 'delaney', 'subject', 'brain', 'tumor', 'treatment', 'thanks', 'replyto', 'bmdelanemidwayuchicagoedu', 'organization', 'university', 'of', 'chicago', 'lines', '12', 'there', 'were', 'a', 'few', 'people', 'who', 'responded', 'to', 'my', 'request', 'for', 'info', 'on', 'treatment', 'for', 'astrocytomas', 'through', 'email', 'whom', 'i', 'couldnt', 'thank', 'directly', 'because', 'of', 'mailbouncing', 'probs', 'sean', 'debra', 'and', 'sharon', 'so', 'i', 'thought', 'id', 'publicly', 'thank', 'everyone', 'thanks', 'im', 'sure', 'glad', 'i', 'accidentally', 'hit', 'rn', 'instead', 'of', 'rm', 'when', 'i', 'was', 'trying', 'to', 'delete', 'a', 'file', 'last', 'september', 'hmmm', 'news', 'whats', 'this', 'brian'], ['from', 'bgrubbdantenmsuedu', 'grubb', 'subject', 're', 'ide', 'vs', 'scsi', 'organization', 'new', 'mexico', 'state', 'university', 'las', 'cruces', 'nm', 'lines', '44', 'distribution', 'world', 'nntppostinghost', 'dantenmsuedu', 'dxb132psuvmpsuedu', 'writes', 'in', 'article', '1qlbrlinn7rkdns1nmsuedu', 'bgrubbdantenmsuedu', 'grubb', 'says', 'in', 'pc', 'magazine', 'april', '27', '199329', 'although', 'scsi', 'is', 'twice', 'as', 'fasst', 'as', 'esdi', '20', 'faster', 'than', 'ide', 'and', 'support', 'up', 'to', '7', 'devices', 'its', 'acceptance', 'has', 'long', 'been', 'stalled', 'by', 'incompatability', 'problems', 'and', 'installation', 'headaches', 'i', 'love', 'it', 'when', 'magazine', 'writers', 'make', 'stupid', 'statements', 'like', 'that', 're', 'performance', 'where', 'do', 'they', 'get', 'those', 'numbers', 'ill', 'list', 'the', 'actual', 'performance', 'ranges', 'which', 'should', 'convince', 'anyone', 'that', 'such', 'a', 'statement', 'is', 'absurd', 'scsii', 'ranges', 'from', '05mbs', 'scsiii', 'ranges', 'from', '040mbs', 'ide', 'ranges', 'from', '083mbs', 'esdi', 'is', 'always', '125mbs', 'although', 'there', 'are', 'some', 'nonstandard', 'versions', 'all', 'this', 'shows', 'is', 'that', 'you', 'dont', 'know', 'much', 'about', 'scsi', 'scsi1', 'with', 'a', 'scsi1', 'controler', 'chip', 'range', 'is', 'indeed', '05mbs', 'and', 'that', 'is', 'all', 'you', 'have', 'right', 'about', 'scsi', 'scsi1', 'with', 'a', 'scsi2', 'controller', 'chip', '46mbs', 'with', '10mbs', 'burst', '8bit', 'note', 'the', 'increase', 'in', 'speed', 'the', 'mac', 'quadra', 'uses', 'this', 'version', 'of', 'scsi1', 'so', 'it', 'does', 'exist', 'some', 'pc', 'use', 'this', 'set', 'up', 'too', 'scsi2', '8bitscsi1', 'mode', '46mbs', 'with', '10mbs', 'burst', 'scsi2', '16bitwide', 'or', 'fast', 'mode', '812mbs', 'with', '20mbs', 'burst', 'scsi2', '32bitwide', 'and', 'fast', '1520mbs', 'with', '40mbs', 'burst', 'by', 'your', 'own', 'data', 'the', 'although', 'scsi', 'is', 'twice', 'as', 'fast', 'as', 'esdi', 'is', 'correct', 'with', 'a', 'scsi2', 'controller', 'chip', 'scsi1', 'can', 'reach', '10mbs', 'which', 'is', 'indeed', '20', 'faster', 'than', 'ide', '120', 'of', '83', 'is', '996', 'all', 'these', 'scsi', 'facts', 'have', 'been', 'posted', 'to', 'this', 'newsgroup', 'in', 'my', 'mac', 'ibm', 'info', 'sheet', 'available', 'by', 'ftp', 'on', 'sumexaimstanfordedu', '364406', 'in', 'the', 'infomacreport', 'as', 'macibmcompareversion', 'txt', 'it', 'should', 'be', '173', 'but', '161', 'may', 'still', 'be', 'there', 'part', 'of', 'this', 'problem', 'is', 'both', 'mac', 'and', 'ibm', 'pc', 'are', 'inconsiant', 'about', 'what', 'scsi', 'is', 'which', 'though', 'it', 'is', 'well', 'documented', 'that', 'the', 'quadra', 'has', 'a', 'scsi2', 'chip', 'an', 'apple', 'salesperson', 'said', 'it', 'uses', 'a', 'fast', 'scsi1', 'chip', 'not', 'at', 'a', '6mbs', '10mbs', 'burst', 'it', 'does', 'not', 'scsi1', 'is', '5mbs', 'maximum', 'synchronous', 'and', 'quadra', 'uses', 'ansynchronous', 'scsi', 'which', 'is', 'slower', 'it', 'seems', 'that', 'mac', 'and', 'ibm', 'see', 'scsi1', 'interface', 'and', 'think', 'scsi1', 'when', 'it', 'maybe', 'a', 'scsi1', 'interface', 'driven', 'in', 'the', 'machine', 'by', 'a', 'scsi2', 'controller', 'chip', 'in', '8bit', 'mode', 'which', 'is', 'much', 'faster', 'then', 'true', 'scsi1', 'can', 'go', 'dont', 'slam', 'an', 'article', 'because', 'you', 'dont', 'understand', 'what', 'is', 'going', 'on', 'one', 'reference', 'for', 'the', 'quadras', 'scsi2', 'controller', 'chip', 'is', 'digital', 'review', 'oct', '21', '1991', 'v8', 'n33', 'p81'], ['from', 'holmes7000iscsvaxuniedu', 'subject', 'win', '30', 'icon', 'help', 'please', 'organization', 'university', 'of', 'northern', 'iowa', 'lines', '10', 'i', 'have', 'win', '30', 'and', 'downloaded', 'several', 'icons', 'and', 'bmps', 'but', 'i', 'cant', 'figure', 'out', 'how', 'to', 'change', 'the', 'wallpaper', 'or', 'use', 'the', 'icons', 'any', 'help', 'would', 'be', 'appreciated', 'thanx', 'brando', 'ps', 'please', 'email', 'me'], ['from', 'kerrux1csouiucedu', 'stan', 'kerr', 'subject', 're', 'sigma', 'designs', 'double', 'up', 'articleid', 'ux1c52u8xb62', 'organization', 'university', 'of', 'illinois', 'at', 'urbana', 'lines', '29', 'jap10pocwruedu', 'joseph', 'a', 'pellettiere', 'writes', 'i', 'am', 'looking', 'for', 'any', 'information', 'about', 'the', 'sigma', 'designs', 'double', 'up', 'board', 'all', 'i', 'can', 'figure', 'out', 'is', 'that', 'it', 'is', 'a', 'hardware', 'compression', 'board', 'that', 'works', 'with', 'autodoubler', 'but', 'i', 'am', 'not', 'sure', 'about', 'this', 'also', 'how', 'much', 'would', 'one', 'cost', 'ive', 'had', 'the', 'board', 'for', 'over', 'a', 'year', 'and', 'it', 'does', 'work', 'with', 'diskdoubler', 'but', 'not', 'with', 'autodoubler', 'due', 'to', 'a', 'licensing', 'problem', 'with', 'stac', 'technologies', 'the', 'owners', 'of', 'the', 'boards', 'compression', 'technology', 'im', 'writing', 'this', 'from', 'memory', 'ive', 'lost', 'the', 'reference', 'please', 'correct', 'me', 'if', 'im', 'wrong', 'using', 'the', 'board', 'ive', 'had', 'problems', 'with', 'file', 'icons', 'being', 'lost', 'but', 'its', 'hard', 'to', 'say', 'whether', 'its', 'the', 'boards', 'fault', 'or', 'something', 'else', 'however', 'if', 'i', 'decompress', 'the', 'troubled', 'file', 'and', 'recompress', 'it', 'without', 'the', 'board', 'the', 'icon', 'usually', 'reappears', 'because', 'of', 'the', 'above', 'mentioned', 'licensing', 'problem', 'the', 'freeware', 'expansion', 'utility', 'dd', 'expand', 'will', 'not', 'decompress', 'a', 'boardcompressed', 'file', 'unless', 'you', 'have', 'the', 'board', 'installed', 'since', 'stac', 'has', 'its', 'own', 'product', 'now', 'it', 'seems', 'unlikely', 'that', 'the', 'holes', 'in', 'autodoublerdiskdoubler', 'related', 'to', 'the', 'board', 'will', 'be', 'fixed', 'which', 'is', 'sad', 'and', 'makes', 'me', 'very', 'reluctant', 'to', 'buy', 'stacs', 'product', 'since', 'theyre', 'being', 'so', 'stinky', 'but', 'hey', 'thats', 'competition', 'stan', 'kerr', 'computing', 'communications', 'services', 'office', 'u', 'of', 'illinoisurbana', 'phone', '2173335217', 'email', 'stankerruiucedu']]\n"
     ]
    }
   ],
   "source": [
    "def process_text(text):\n",
    "    \"\"\"Remove punctuation, lowercase, and tokenize text.\"\"\"\n",
    "    # TODO: check for special cases like \"I'll\"\n",
    "    ls = []\n",
    "    for char in text:\n",
    "        if char not in string.punctuation:\n",
    "            ls.append(char.lower())\n",
    "    \n",
    "    return word_tokenize(\"\".join(ls))\n",
    "\n",
    "sentences = [process_text(document) for document in text_from_corpus.data]\n",
    "\n",
    "print(sentences[:10])"
   ]
  },
  {
   "cell_type": "markdown",
   "metadata": {
    "colab_type": "text",
    "id": "mmVWmZJh5q5-"
   },
   "source": [
    "### 2. Train the model\n",
    "Train the Word2vec model - words should show up at least 3 times in the corpus of text\n",
    "and the size of each word vector is 200 (i.e. dimension = 200)\n",
    "\n",
    "*Reference*: [How to get started with Word2Vec — and then how to make it work](https://medium.com/free-code-camp/how-to-get-started-with-word2vec-and-then-how-to-make-it-work-d0a2fca9dad3). Scroll down to the section \"A closer look at the parameter settings\" to review the parameters that can be set"
   ]
  },
  {
   "cell_type": "code",
   "execution_count": 15,
   "metadata": {
    "colab": {},
    "colab_type": "code",
    "id": "7bFaRbT65tX3"
   },
   "outputs": [],
   "source": [
    "news_model = Word2Vec(sentences, min_count=3, size=200, window=2)"
   ]
  },
  {
   "cell_type": "markdown",
   "metadata": {
    "colab_type": "text",
    "id": "i24Y0trm5wBF"
   },
   "source": [
    "Generate the Vocabulary - or at least look at how big it is"
   ]
  },
  {
   "cell_type": "code",
   "execution_count": 16,
   "metadata": {
    "colab": {
     "base_uri": "https://localhost:8080/",
     "height": 35
    },
    "colab_type": "code",
    "id": "OpMJGe6D5xW-",
    "outputId": "5d3ed9d4-fadf-4d8a-92f7-7500afe352eb"
   },
   "outputs": [
    {
     "name": "stdout",
     "output_type": "stream",
     "text": [
      "43312\n"
     ]
    }
   ],
   "source": [
    "print(len(news_model.wv.vocab))"
   ]
  },
  {
   "cell_type": "markdown",
   "metadata": {
    "colab_type": "text",
    "id": "WzghiRmw50gI"
   },
   "source": [
    "### Examine word similarity to the word \"Christ\" (find other words most similar to it)"
   ]
  },
  {
   "cell_type": "code",
   "execution_count": 17,
   "metadata": {
    "colab": {
     "base_uri": "https://localhost:8080/",
     "height": 191
    },
    "colab_type": "code",
    "id": "_UQwGmpZ44as",
    "outputId": "f5496615-c6a2-497c-b275-50ecbe1c9ac2"
   },
   "outputs": [
    {
     "data": {
      "text/plain": [
       "[('jesus', 0.918633759021759),\n",
       " ('spirit', 0.8739626407623291),\n",
       " ('satan', 0.8596612215042114),\n",
       " ('himself', 0.8482229113578796),\n",
       " ('lord', 0.8443716764450073),\n",
       " ('resurrection', 0.8276926279067993),\n",
       " ('father', 0.8269971013069153),\n",
       " ('god', 0.8263020515441895),\n",
       " ('messiah', 0.8168060779571533),\n",
       " ('son', 0.810607373714447)]"
      ]
     },
     "execution_count": 17,
     "metadata": {},
     "output_type": "execute_result"
    }
   ],
   "source": [
    "news_model.wv.most_similar('christ')"
   ]
  },
  {
   "cell_type": "markdown",
   "metadata": {
    "colab_type": "text",
    "id": "7lFfJzhF6si_"
   },
   "source": [
    "![](https://memegenerator.net/img/instances/73402168/i-know-some-of-these-words.jpg)\n",
    "\n"
   ]
  },
  {
   "cell_type": "markdown",
   "metadata": {
    "colab_type": "text",
    "id": "fe1GAsI4ysPM"
   },
   "source": [
    "# Lets try it with a different dataset:\n",
    "\n",
    "![The Simpsons](https://media1.tenor.com/images/0273468e8e2921a39d75aa1f2ca461a2/tenor.gif?itemid=3865850)\n",
    "\n",
    "<https://www.kaggle.com/pierremegret/dialogue-lines-of-the-simpsons>"
   ]
  },
  {
   "cell_type": "code",
   "execution_count": null,
   "metadata": {
    "colab": {},
    "colab_type": "code",
    "id": "IVsUfj0lOXj9"
   },
   "outputs": [],
   "source": [
    "##### Lets do it! #####\n"
   ]
  }
 ],
 "metadata": {
  "colab": {
   "collapsed_sections": [],
   "name": "LS_DS_424_Word_Embeddings.ipynb",
   "provenance": [],
   "version": "0.3.2"
  },
  "kernelspec": {
   "display_name": "Python 3",
   "language": "python",
   "name": "python3"
  },
  "language_info": {
   "codemirror_mode": {
    "name": "ipython",
    "version": 3
   },
   "file_extension": ".py",
   "mimetype": "text/x-python",
   "name": "python",
   "nbconvert_exporter": "python",
   "pygments_lexer": "ipython3",
   "version": "3.6.8"
  }
 },
 "nbformat": 4,
 "nbformat_minor": 2
}
