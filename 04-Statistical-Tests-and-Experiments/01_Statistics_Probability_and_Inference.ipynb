{
 "cells": [
  {
   "cell_type": "markdown",
   "metadata": {
    "colab_type": "text",
    "id": "eJGtmni-DezY"
   },
   "source": [
    "# Statistics, Probability, and Inference\n",
    "**Resources**\n",
    "* [Interactive Student's t-Distribution](https://homepage.divms.uiowa.edu/~mbognar/applets/t.html)\n",
    "* [Understanding the t-distribution and its normal approximation](https://rpsychologist.com/d3/tdist/)\n",
    "* [Central Limit Theorem - statisticsbyjim.com](https://statisticsbyjim.com/basics/central-limit-theorem/)\n",
    "* [The Central Limit Theorem and its Implications for Statistical Inference](https://tutorials.methodsconsultants.com/posts/the-central-limit-theorem-and-its-implications-for-statistical-inference/)\n",
    "* [Intuition behind the Definition of Conditional Probability (for 2 Events)\n",
    "](https://math.stackexchange.com/questions/294580/intuition-behind-the-definition-of-conditional-probability-for-2-events)"
   ]
  },
  {
   "cell_type": "markdown",
   "metadata": {},
   "source": [
    "# Parametric vs. Nonparametric Statistics\n",
    "\n",
    "**Parametric statistics** [(wiki)](https://en.wikipedia.org/wiki/Parametric_statistics) assumes certain things about the population we are studying and allows us to model probabilities with a fixed set of paramters. For example, a normal distribution has two parameters: the mean and the standard deviation.\n",
    "\n",
    "Typically parametric methods are applied in cases where the population is approximately normal or can be approximated using a normal distribution via the **central limit theorem**. \n",
    "\n",
    "Common parametric assumptions:\n",
    "* confidence interval for a population mean, with known standard deviation\n",
    "* confidence interval for a population mean, with unknown standard deviation\n",
    "* confidence interval for a population variance\n",
    "* confidence interval for the difference of two means, with unknown standard deviation\n",
    "\n",
    "Parametric methods\n",
    "* **t-test**\n",
    "* Pearson correlation test\n",
    "* most well known statistical methods\n",
    "\n",
    "**Nonparametric statistics** [(wiki)](https://en.wikipedia.org/wiki/Nonparametric_statistics) is not based solely on parametrized families of probability distributions (parameters like mean and variance). Nonparametric statistics is based on either being distribution-free or having a specified distribution but with the distribution's parameters unspecified. Nonparametric statistics includes both descriptive statistics and statistical inference.\n",
    "\n",
    "Nonparametric models\n",
    "* A histogram is a simple nonparametric estimate of a probability distribution.\n",
    "* Kernel density estimation provides better estimates of the density than histograms.\n",
    "* K Nearest Neighbors classify the unseen instance based on the K points in the training set which are nearest to it.\n",
    "* A support vector machine (with a Gaussian kernel) is a nonparametric large-margin classifier.\n",
    "\n",
    "Nonparametric methods\n",
    "* chi-squared test\n",
    "* Sign test for population mean\n",
    "* Bootstrapping techniques\n",
    "* U test for two independent means\n",
    "* Spearman correlation test"
   ]
  },
  {
   "cell_type": "markdown",
   "metadata": {},
   "source": [
    "# The Central Limit Theorem, t-distributions, and t-tests\n",
    "\n",
    "The **Central Limit Theorem** states that regardless of the distribution of a continuous measure in a population, the means of repeated random samples from that population will themselves be normally distributed. With larger sample sizes, the distribution of sample means will more closely approximate a normal distribution and cluster more tightly around the population mean.\n",
    "\n",
    "The **t-scores** of repeated samples from a population are distributed according to the **t-distribution**. The **t-distribution** has one parameter, its **degrees of freedom**, defined as `sample_size - 1` or `sample_1_size + sample_2_size - 2` for two-sample tests. With larger sample sizes, the **t-distribution** will converge on a **standard normal distribution** (mean 0, standard deviation 1).\n",
    "\n",
    "As a rule of thumb, sample sizes of greater than **30 items** will produce a sufficiently standard normal **t-distribution**.\n",
    "\n",
    "A **t-test** most commonly compares the mean and variance of one or two samples to determine whether they are significantly different and not due to random chance. In a **t-test**, the dependent variable is continuous (interval/ratio) and the independent variable is categorical/nominal.\n",
    "\n",
    "Each **t-test** returns a single **t-score**. We compare this **t-score** to the **critical t-value**, which is the value below (if negative critical t) or above which the area under our **t-distribution** is equal to our desired confidence value, usually 0.05. Depending on our hypothesis, we reject the null hypothesis if our **t-score** is below and/or above the **critical t-value**.\n",
    "\n",
    "**t-test** come in three variants. **One-sample tests** compare results from a single sample against a known or hypothesized population. **Two-sample tests** compare two different and _independent_ samples against one another. **Paired tests** are a special type of two-sample tests where, to control other variables, observations are paired and the differences between those paired observations becomes the sample.\n",
    "\n",
    "Examples:\n",
    "* one-sample test\n",
    "    * (shown in this notebook) a survey asking whether respondents prefer Coke or Pepsi, modeled as 0 or 1. The null hypothesis population mean would be 0.5.\n",
    "* two-sample test\n",
    "    * whether smokers and non-smokers (independent variable) have differing frontal lobe brain size (dependent variable)\n",
    "    * (shown in this notebook) whether democrats and republicans (independent variable) vote differently on a given topic (dependent variable)"
   ]
  },
  {
   "cell_type": "markdown",
   "metadata": {
    "colab_type": "text",
    "id": "FMhDKOFND0qY"
   },
   "source": [
    "### What's available in SciPy?\n",
    "\n",
    "As we delve into statistics, we'll be using more libraries - in particular the [stats package from SciPy](https://docs.scipy.org/doc/scipy/reference/tutorial/stats.html)."
   ]
  },
  {
   "cell_type": "code",
   "execution_count": 1,
   "metadata": {
    "colab": {
     "base_uri": "https://localhost:8080/",
     "height": 4070
    },
    "colab_type": "code",
    "id": "fQ9rkLJmEbsk",
    "outputId": "b0d31e12-e690-4663-fba5-f3431af850fc"
   },
   "outputs": [
    {
     "data": {
      "text/plain": [
       "['absolute_import',\n",
       " 'alpha',\n",
       " 'anderson',\n",
       " 'anderson_ksamp',\n",
       " 'anglit',\n",
       " 'ansari',\n",
       " 'arcsine',\n",
       " 'argus',\n",
       " 'bartlett',\n",
       " 'bayes_mvs',\n",
       " 'bernoulli',\n",
       " 'beta',\n",
       " 'betaprime',\n",
       " 'binned_statistic',\n",
       " 'binned_statistic_2d',\n",
       " 'binned_statistic_dd',\n",
       " 'binom',\n",
       " 'binom_test',\n",
       " 'boltzmann',\n",
       " 'boxcox',\n",
       " 'boxcox_llf',\n",
       " 'boxcox_normmax',\n",
       " 'boxcox_normplot',\n",
       " 'bradford',\n",
       " 'burr',\n",
       " 'burr12',\n",
       " 'cauchy',\n",
       " 'chi',\n",
       " 'chi2',\n",
       " 'chi2_contingency',\n",
       " 'chisquare',\n",
       " 'circmean',\n",
       " 'circstd',\n",
       " 'circvar',\n",
       " 'combine_pvalues',\n",
       " 'contingency',\n",
       " 'cosine',\n",
       " 'crystalball',\n",
       " 'cumfreq',\n",
       " 'describe',\n",
       " 'dgamma',\n",
       " 'dirichlet',\n",
       " 'distributions',\n",
       " 'division',\n",
       " 'dlaplace',\n",
       " 'dweibull',\n",
       " 'energy_distance',\n",
       " 'entropy',\n",
       " 'erlang',\n",
       " 'expon',\n",
       " 'exponnorm',\n",
       " 'exponpow',\n",
       " 'exponweib',\n",
       " 'f',\n",
       " 'f_oneway',\n",
       " 'fatiguelife',\n",
       " 'find_repeats',\n",
       " 'fisher_exact',\n",
       " 'fisk',\n",
       " 'fligner',\n",
       " 'foldcauchy',\n",
       " 'foldnorm',\n",
       " 'frechet_l',\n",
       " 'frechet_r',\n",
       " 'friedmanchisquare',\n",
       " 'gamma',\n",
       " 'gausshyper',\n",
       " 'gaussian_kde',\n",
       " 'genexpon',\n",
       " 'genextreme',\n",
       " 'gengamma',\n",
       " 'genhalflogistic',\n",
       " 'genlogistic',\n",
       " 'gennorm',\n",
       " 'genpareto',\n",
       " 'geom',\n",
       " 'gilbrat',\n",
       " 'gmean',\n",
       " 'gompertz',\n",
       " 'gumbel_l',\n",
       " 'gumbel_r',\n",
       " 'halfcauchy',\n",
       " 'halfgennorm',\n",
       " 'halflogistic',\n",
       " 'halfnorm',\n",
       " 'hmean',\n",
       " 'hypergeom',\n",
       " 'hypsecant',\n",
       " 'invgamma',\n",
       " 'invgauss',\n",
       " 'invweibull',\n",
       " 'invwishart',\n",
       " 'iqr',\n",
       " 'itemfreq',\n",
       " 'jarque_bera',\n",
       " 'johnsonsb',\n",
       " 'johnsonsu',\n",
       " 'kappa3',\n",
       " 'kappa4',\n",
       " 'kde',\n",
       " 'kendalltau',\n",
       " 'kruskal',\n",
       " 'ks_2samp',\n",
       " 'ksone',\n",
       " 'kstat',\n",
       " 'kstatvar',\n",
       " 'kstest',\n",
       " 'kstwobign',\n",
       " 'kurtosis',\n",
       " 'kurtosistest',\n",
       " 'laplace',\n",
       " 'levene',\n",
       " 'levy',\n",
       " 'levy_l',\n",
       " 'levy_stable',\n",
       " 'linregress',\n",
       " 'loggamma',\n",
       " 'logistic',\n",
       " 'loglaplace',\n",
       " 'lognorm',\n",
       " 'logser',\n",
       " 'lomax',\n",
       " 'mannwhitneyu',\n",
       " 'matrix_normal',\n",
       " 'maxwell',\n",
       " 'median_test',\n",
       " 'mielke',\n",
       " 'mode',\n",
       " 'moment',\n",
       " 'mood',\n",
       " 'morestats',\n",
       " 'moyal',\n",
       " 'mstats',\n",
       " 'mstats_basic',\n",
       " 'mstats_extras',\n",
       " 'multinomial',\n",
       " 'multivariate_normal',\n",
       " 'mvn',\n",
       " 'mvsdist',\n",
       " 'nakagami',\n",
       " 'nbinom',\n",
       " 'ncf',\n",
       " 'nct',\n",
       " 'ncx2',\n",
       " 'norm',\n",
       " 'normaltest',\n",
       " 'norminvgauss',\n",
       " 'obrientransform',\n",
       " 'ortho_group',\n",
       " 'pareto',\n",
       " 'pearson3',\n",
       " 'pearsonr',\n",
       " 'percentileofscore',\n",
       " 'planck',\n",
       " 'pointbiserialr',\n",
       " 'poisson',\n",
       " 'power_divergence',\n",
       " 'powerlaw',\n",
       " 'powerlognorm',\n",
       " 'powernorm',\n",
       " 'ppcc_max',\n",
       " 'ppcc_plot',\n",
       " 'print_function',\n",
       " 'probplot',\n",
       " 'randint',\n",
       " 'random_correlation',\n",
       " 'rankdata',\n",
       " 'ranksums',\n",
       " 'rayleigh',\n",
       " 'rdist',\n",
       " 'recipinvgauss',\n",
       " 'reciprocal',\n",
       " 'relfreq',\n",
       " 'rice',\n",
       " 'rv_continuous',\n",
       " 'rv_discrete',\n",
       " 'rv_histogram',\n",
       " 'scoreatpercentile',\n",
       " 'sem',\n",
       " 'semicircular',\n",
       " 'shapiro',\n",
       " 'sigmaclip',\n",
       " 'skellam',\n",
       " 'skew',\n",
       " 'skewnorm',\n",
       " 'skewtest',\n",
       " 'spearmanr',\n",
       " 'special_ortho_group',\n",
       " 'statlib',\n",
       " 'stats',\n",
       " 't',\n",
       " 'test',\n",
       " 'theilslopes',\n",
       " 'tiecorrect',\n",
       " 'tmax',\n",
       " 'tmean',\n",
       " 'tmin',\n",
       " 'trapz',\n",
       " 'triang',\n",
       " 'trim1',\n",
       " 'trim_mean',\n",
       " 'trimboth',\n",
       " 'truncexpon',\n",
       " 'truncnorm',\n",
       " 'tsem',\n",
       " 'tstd',\n",
       " 'ttest_1samp',\n",
       " 'ttest_ind',\n",
       " 'ttest_ind_from_stats',\n",
       " 'ttest_rel',\n",
       " 'tukeylambda',\n",
       " 'tvar',\n",
       " 'uniform',\n",
       " 'unitary_group',\n",
       " 'variation',\n",
       " 'vonmises',\n",
       " 'vonmises_line',\n",
       " 'wald',\n",
       " 'wasserstein_distance',\n",
       " 'weibull_max',\n",
       " 'weibull_min',\n",
       " 'weightedtau',\n",
       " 'wilcoxon',\n",
       " 'wishart',\n",
       " 'wrapcauchy',\n",
       " 'zipf',\n",
       " 'zmap',\n",
       " 'zscore']"
      ]
     },
     "execution_count": 1,
     "metadata": {},
     "output_type": "execute_result"
    }
   ],
   "source": [
    "import random\n",
    "import math\n",
    "\n",
    "import matplotlib.pyplot as plt\n",
    "import numpy as np\n",
    "import pandas as pd\n",
    "from scipy import stats\n",
    "\n",
    "[name for name in dir(stats) if not name.startswith('_')]"
   ]
  },
  {
   "cell_type": "code",
   "execution_count": 2,
   "metadata": {
    "colab": {
     "base_uri": "https://localhost:8080/",
     "height": 489
    },
    "colab_type": "code",
    "id": "bxW4SG_gJGlZ",
    "outputId": "2e896ab5-309c-4c0b-a0d0-7338910db244"
   },
   "outputs": [
    {
     "name": "stdout",
     "output_type": "stream",
     "text": [
      "norm\n",
      "mean: 0.0\n",
      "std:  1.0\n",
      "var:  1.0\n",
      "t\n",
      "mean: 0.0\n",
      "std:  1.2909944487358056\n",
      "var:  1.6666666666666667\n"
     ]
    },
    {
     "data": {
      "image/png": "[encoded data removed]",
      "text/plain": [
       "<Figure size 432x288 with 1 Axes>"
      ]
     },
     "metadata": {
      "needs_background": "light"
     },
     "output_type": "display_data"
    }
   ],
   "source": [
    "# As usual, lots of stuff here! \n",
    "def describe(x):\n",
    "    print(f'mean: {x.mean()}')\n",
    "    print(f'std:  {x.std()}')\n",
    "    print(f'var:  {x.var()}')\n",
    "\n",
    "# There's our friend, the normal distribution\n",
    "norm_dist = stats.norm()\n",
    "print('norm')\n",
    "describe(norm_dist)\n",
    "\n",
    "# And a new friend - t\n",
    "t_dist = stats.t(5)  # 5 is df \"shape\" parameter\n",
    "print('t')\n",
    "describe(t_dist)\n",
    "\n",
    "x = np.linspace(-5, 5, 5000)\n",
    "plt.plot(x, t_dist.pdf(x), label='t; df=5');\n",
    "plt.plot(x, norm_dist.pdf(x), label='normal')\n",
    "plt.legend();"
   ]
  },
  {
   "cell_type": "markdown",
   "metadata": {
    "colab_type": "text",
    "id": "x5X6t3G1X9hN"
   },
   "source": [
    "The t-distribution is \"normal-ish\" - the larger the parameter (which reflects its degrees of freedom - more input data/features will increase it), the closer to true normal."
   ]
  },
  {
   "cell_type": "code",
   "execution_count": 3,
   "metadata": {
    "colab": {
     "base_uri": "https://localhost:8080/",
     "height": 631
    },
    "colab_type": "code",
    "id": "UyGir30yXtBl",
    "outputId": "ac1de110-bc12-4148-d9bf-6daf163acb3c"
   },
   "outputs": [
    {
     "name": "stdout",
     "output_type": "stream",
     "text": [
      "t distribution, df=1\n",
      "mean: 0.0\n",
      "std:  inf\n",
      "var:  inf\n",
      "t distribution, df=2\n",
      "mean: 0.0\n",
      "std:  inf\n",
      "var:  inf\n",
      "t distribution, df=5\n",
      "mean: 0.0\n",
      "std:  1.2909944487358056\n",
      "var:  1.6666666666666667\n",
      "t distribution, df=1000\n",
      "mean: 0.0\n",
      "std:  1.0010015025043828\n",
      "var:  1.002004008016032\n"
     ]
    },
    {
     "data": {
      "image/png": "[encoded data removed]",
      "text/plain": [
       "<Figure size 432x288 with 1 Axes>"
      ]
     },
     "metadata": {
      "needs_background": "light"
     },
     "output_type": "display_data"
    }
   ],
   "source": [
    "x = np.linspace(-5, 5, 5000)\n",
    "\n",
    "for df in [1, 2, 5, 1000]:\n",
    "    t_dist = stats.t(df)\n",
    "    print(f't distribution, df={df}')\n",
    "    describe(t_dist)\n",
    "    plt.plot(x, t_dist.pdf(x), label=f'df={df}')\n",
    "\n",
    "plt.legend();"
   ]
  },
  {
   "cell_type": "markdown",
   "metadata": {
    "colab_type": "text",
    "id": "FOvEGMysLaE2"
   },
   "source": [
    "Why is it different from normal? To better reflect the tendencies of small data and situations with unknown population standard deviation. In other words, the normal distribution is still the nice pure ideal in the limit (thanks to the **central limit theorem**), but the t-distribution is much more useful in many real-world situations.\n",
    "\n",
    "<img src=\"https://upload.wikimedia.org/wikipedia/commons/4/42/William_Sealy_Gosset.jpg\" width=250px>\n",
    "\n",
    "History sidenote - this is \"Student\". His real name is William Sealy Gosset, and he published under the pen name \"Student\" because he was not an academic. He was a brewer, working at Guinness and using trial and error to determine the best ways to yield barley. He's also proof that, even 100 years ago, you don't need official credentials to do real data science!"
   ]
  },
  {
   "cell_type": "markdown",
   "metadata": {
    "colab_type": "text",
    "id": "1yx_QilAEC6o"
   },
   "source": [
    "## One-Sample t-test from Scratch\n",
    "\n",
    "We'll generate our own data, so we can know and alter the \"ground truth\" that the t-test should find. We will learn about p-values and how to interpret \"statistical significance\" based on the output of a hypothesis test."
   ]
  },
  {
   "cell_type": "code",
   "execution_count": 4,
   "metadata": {
    "colab": {
     "base_uri": "https://localhost:8080/",
     "height": 35
    },
    "colab_type": "code",
    "id": "BuysRPs-Ed0v",
    "outputId": "7282cf5f-bd51-4830-ba4b-939491af3c34"
   },
   "outputs": [
    {
     "name": "stdout",
     "output_type": "stream",
     "text": [
      "[0, 1, 0, 1, 0, 0, 0, 1, 1, 0, 0, 1, 1, 1, 1, 1, 1, 1, 0, 0, 1, 1, 1, 1, 1, 1, 1, 1, 1, 0, 1, 1, 1, 1, 1, 1, 1, 0, 1, 0, 1, 1, 0, 1, 0, 1, 1, 0, 0, 0]\n"
     ]
    }
   ],
   "source": [
    "# Coke or Pepsi experiment\n",
    "# This will be represented as a binomial random variable\n",
    "# 0 = Likes Pepsi\n",
    "# 1 = Likes Coke\n",
    "\n",
    "# We want a list of 30 observations (sample size n=30)\n",
    "# Start by generating random data\n",
    "# help(random.randint)\n",
    "random.seed(10)\n",
    "# sample_data = [random.randint(0, 1) for _ in range(30)]\n",
    "sample_data = [0, 1, 0, 1, 0, 0, 0, 1, 1, 0, 0, 1, 1, 1, 1, 1, 1, 1,\n",
    "               0, 0, 1, 1, 1, 1, 1, 1, 1, 1, 1, 0, 1, 1, 1, 1, 1, 1,\n",
    "               1, 0, 1, 0, 1, 1, 0, 1, 0, 1, 1, 0, 0, 0]\n",
    "print(sample_data)"
   ]
  },
  {
   "cell_type": "code",
   "execution_count": 5,
   "metadata": {
    "colab": {
     "base_uri": "https://localhost:8080/",
     "height": 177
    },
    "colab_type": "code",
    "id": "KaLJ6JcJeJ6L",
    "outputId": "00fa353e-6b3d-4305-8dc3-c14d3467c6de"
   },
   "outputs": [
    {
     "data": {
      "text/plain": [
       "count    50.000000\n",
       "mean      0.660000\n",
       "std       0.478518\n",
       "min       0.000000\n",
       "25%       0.000000\n",
       "50%       1.000000\n",
       "75%       1.000000\n",
       "max       1.000000\n",
       "dtype: float64"
      ]
     },
     "execution_count": 5,
     "metadata": {},
     "output_type": "execute_result"
    }
   ],
   "source": [
    "sample_data = pd.Series(sample_data)\n",
    "sample_data.describe()"
   ]
  },
  {
   "cell_type": "code",
   "execution_count": 6,
   "metadata": {
    "colab": {
     "base_uri": "https://localhost:8080/",
     "height": 347
    },
    "colab_type": "code",
    "id": "SFJvEAKqfPoW",
    "outputId": "83569858-db5b-4e1c-cd7f-e813208edc7d"
   },
   "outputs": [
    {
     "data": {
      "image/png": "[encoded data removed]",
      "text/plain": [
       "<Figure size 432x288 with 1 Axes>"
      ]
     },
     "metadata": {
      "needs_background": "light"
     },
     "output_type": "display_data"
    }
   ],
   "source": [
    "sample_data.plot.hist();"
   ]
  },
  {
   "cell_type": "code",
   "execution_count": 7,
   "metadata": {
    "colab": {
     "base_uri": "https://localhost:8080/",
     "height": 35
    },
    "colab_type": "code",
    "id": "J7zEGzmafIjC",
    "outputId": "651ceb53-4d93-4915-dd49-60153138f828"
   },
   "outputs": [
    {
     "data": {
      "text/plain": [
       "Ttest_1sampResult(statistic=2.364321853156195, pvalue=0.02207003200903075)"
      ]
     },
     "execution_count": 7,
     "metadata": {},
     "output_type": "execute_result"
    }
   ],
   "source": [
    "# Now with confidence!\n",
    "# help(stats.ttest_1samp)\n",
    "stats.ttest_1samp(a=sample_data, popmean=0.5)"
   ]
  },
  {
   "cell_type": "code",
   "execution_count": 8,
   "metadata": {
    "colab": {},
    "colab_type": "code",
    "id": "-HCPkOhKqy44"
   },
   "outputs": [],
   "source": [
    "# t score from scratch\n",
    "def var(sample, mean, ddof=1):\n",
    "    \"\"\"\n",
    "    ddof=1 enforces Bessel's correction, which is used for samples rather than\n",
    "    entire populations (ddof=0)\n",
    "    \"\"\"\n",
    "    std = 0\n",
    "    for obs in sample:\n",
    "        std += (obs - mean)**2\n",
    "\n",
    "    return std / (len(sample) - ddof)\n",
    "\n",
    "def calculate_t_stat(sample, null_hyp):\n",
    "    sample_mean = sum(sample) / len(sample)\n",
    "\n",
    "    sample_var = var(sample, sample_mean) # aka mean of squared differences\n",
    "\n",
    "    sample_std_dev = math.sqrt(sample_var)\n",
    "\n",
    "    sample_std_err = sample_std_dev / math.sqrt(len(sample))\n",
    "\n",
    "    return (sample_mean - null_hyp) / sample_std_err"
   ]
  },
  {
   "cell_type": "code",
   "execution_count": 9,
   "metadata": {
    "colab": {},
    "colab_type": "code",
    "id": "_ceOLPz3fd1K"
   },
   "outputs": [],
   "source": [
    "assert math.isclose(calculate_t_stat(sample_data, null_hyp=0.5),\n",
    "                    stats.ttest_1samp(sample_data, 0.5)[0],\n",
    "                    abs_tol=1e-8)\n",
    "\n",
    "assert sample_data.var(ddof=1) == var(sample_data, sample_data.mean(), ddof=1)"
   ]
  },
  {
   "cell_type": "markdown",
   "metadata": {
    "colab_type": "text",
    "id": "3QyfBgRT22oI"
   },
   "source": [
    "In a two-sided test, the **p value** is the proportion of the t-distribution that lies below our negative t statistic **or** above our positive t statistic. "
   ]
  },
  {
   "cell_type": "code",
   "execution_count": 10,
   "metadata": {
    "colab": {
     "base_uri": "https://localhost:8080/",
     "height": 35
    },
    "colab_type": "code",
    "id": "Mr1O7XCR36dy",
    "outputId": "a9ad85f8-1fbc-40ea-d56a-8d9e8eef5ba5"
   },
   "outputs": [
    {
     "data": {
      "image/png": "[encoded data removed]",
      "text/plain": [
       "<Figure size 432x288 with 1 Axes>"
      ]
     },
     "metadata": {
      "needs_background": "light"
     },
     "output_type": "display_data"
    }
   ],
   "source": [
    "dof = len(sample_data) - 1\n",
    "t_dist = stats.t(dof)\n",
    "result = stats.ttest_1samp(a=sample_data, popmean=0.5)\n",
    "tstat = result[0]\n",
    "p = t_dist.cdf(-1 * tstat) * 2 # .cdf gives the area under the dist curve\n",
    "# p = result[1]  # or get it from results\n",
    "\n",
    "x = np.linspace(-5, 5, 5000)\n",
    "plt.plot(x, t_dist.pdf(x), label=f't dist (dof={dof})')\n",
    "plt.vlines([-tstat, tstat], ymin=0, ymax=0.40, \n",
    "           label=f't score: {round(tstat, 3)}')\n",
    "plt.fill_between(x, t_dist.pdf(x), where=np.logical_or(x<-tstat, tstat<x), \n",
    "                 label=f'p value: {round(p, 3)}')\n",
    "plt.legend();"
   ]
  },
  {
   "cell_type": "markdown",
   "metadata": {},
   "source": [
    "### Interpretation\n",
    "\n",
    "In a two-tailed test, our threshold for statistical significance is `0.10`. With a **p value** of `0.022`, we can reject our null hypothesis that the population equally prefers Coke and Pepsi. In this case there was a clear preference for Coke (represented by 1 in our sample), although our test was not conducted to determine _which_ product is prefered - only to test whether _either one_ of the products is prefered over the other."
   ]
  },
  {
   "cell_type": "code",
   "execution_count": 11,
   "metadata": {
    "colab": {},
    "colab_type": "code",
    "id": "fptK3w_Xhtks"
   },
   "outputs": [],
   "source": [
    "# On your own optional stretch goal:\n",
    "# Figure out how to get t.cdf to give us 1/2 tailed tests and not just the base\n",
    "\n",
    "# Put the entire above \"experiment\" in a loop\n",
    "# and run it a bunch of times for a bunch of different seeds\n",
    "# and see how often the p value holds"
   ]
  },
  {
   "cell_type": "markdown",
   "metadata": {
    "colab_type": "text",
    "id": "egXb7YpqEcZF"
   },
   "source": [
    "## Assignment - apply the t-test to real data\n",
    "\n",
    "Your assignment is to determine which issues have \"statistically significant\" differences between political parties in this [1980s congressional voting data](https://archive.ics.uci.edu/ml/datasets/Congressional+Voting+Records). The data consists of 435 instances (one for each congressperson), a class (democrat or republican), and 16 binary attributes (yes or no for voting for or against certain issues). Be aware - there are missing values!\n",
    "\n",
    "Your goals:\n",
    "\n",
    "1. Load and clean the data (or determine the best method to drop observations when running tests)\n",
    "2. Using hypothesis testing, find an issue that democrats support more than republicans with p < 0.01\n",
    "3. Using hypothesis testing, find an issue that republicans support more than democrats with p < 0.01\n",
    "4. Using hypothesis testing, find an issue where the difference between republicans and democrats has p > 0.1 (i.e. there may not be much of a difference)\n",
    "\n",
    "Note that this data will involve *2 sample* t-tests, because you're comparing averages across two groups (republicans and democrats) rather than a single group against a null hypothesis.\n",
    "\n",
    "Stretch goals:\n",
    "\n",
    "1. Refactor your code into functions so it's easy to rerun with arbitrary variables\n",
    "2. Apply hypothesis testing to your personal project data (for the purposes of this notebook you can type a summary of the hypothesis you formed and tested)"
   ]
  },
  {
   "cell_type": "code",
   "execution_count": 0,
   "metadata": {
    "colab": {},
    "colab_type": "code",
    "id": "KovsCKmxRfDq"
   },
   "outputs": [],
   "source": [
    "import re\n",
    "import requests\n",
    "from typing import Tuple\n",
    "\n",
    "from bs4 import BeautifulSoup\n",
    "\n",
    "\n",
    "def get_uci_data_urls(url: str) -> Tuple[str]:\n",
    "    r = requests.get(url)\n",
    "    soup = BeautifulSoup(r.text, 'html.parser')\n",
    "\n",
    "    match = soup.find('a', string='Data Folder', href=True)\n",
    "\n",
    "    if not match:\n",
    "    return '', ''\n",
    "\n",
    "    db_url = match['href']\n",
    "    url = url.split('/')[:-2]\n",
    "    db_url = '/'.join(url) + db_url[2:]\n",
    "\n",
    "    r = requests.get(db_url)\n",
    "    soup = BeautifulSoup(r.text, 'html.parser')\n",
    "\n",
    "    data_url = soup.find(string=re.compile(\".data\"), href=True)\n",
    "    if data_url:\n",
    "    data_url = db_url + data_url['href']\n",
    "\n",
    "    names_url = soup.find(string=re.compile(\".names\"), href=True)\n",
    "    if names_url:\n",
    "    names_url = db_url + names_url['href']\n",
    "\n",
    "    return data_url or '', names_url or ''"
   ]
  },
  {
   "cell_type": "code",
   "execution_count": 0,
   "metadata": {
    "colab": {},
    "colab_type": "code",
    "id": "2Inni_ByYxbF"
   },
   "outputs": [],
   "source": [
    "import pandas as pd\n",
    "import numpy as np\n",
    "import scipy\n",
    "\n",
    "uci_url = 'https://archive.ics.uci.edu/ml/datasets/Congressional+Voting+Records'\n",
    "data_url, names_url = get_uci_data_urls(uci_url)\n",
    "\n",
    "cols = [\n",
    "  'Class Name',\n",
    "  'handicapped-infants',\n",
    "  'water-project-cost-sharing',\n",
    "  'adoption-of-the-budget-resolution',\n",
    "  'physician-fee-freeze',\n",
    "  'el-salvador-aid',\n",
    "  'religious-groups-in-schools',\n",
    "  'anti-satellite-test-ban',\n",
    "  'aid-to-nicaraguan-contras',\n",
    "  'mx-missile',\n",
    "  'immigration',\n",
    "  'synfuels-corporation-cutback',\n",
    "  'education-spending',\n",
    "  'superfund-right-to-sue',\n",
    "  'crime',\n",
    "  'duty-free-exports',\n",
    "  'export-administration-act-south-africa'\n",
    "]\n",
    "\n",
    "df = pd.read_csv(data_url, names=cols)"
   ]
  },
  {
   "cell_type": "code",
   "execution_count": 0,
   "metadata": {
    "colab": {
     "base_uri": "https://localhost:8080/",
     "height": 247
    },
    "colab_type": "code",
    "id": "nstrmCG-Ecyk",
    "outputId": "7d1e7a5d-a34c-481c-eb68-785bfea6b6d4"
   },
   "outputs": [
    {
     "data": {
      "text/html": [
       "<div>\n",
       "<style scoped>\n",
       "    .dataframe tbody tr th:only-of-type {\n",
       "        vertical-align: middle;\n",
       "    }\n",
       "\n",
       "    .dataframe tbody tr th {\n",
       "        vertical-align: top;\n",
       "    }\n",
       "\n",
       "    .dataframe thead th {\n",
       "        text-align: right;\n",
       "    }\n",
       "</style>\n",
       "<table border=\"1\" class=\"dataframe\">\n",
       "  <thead>\n",
       "    <tr style=\"text-align: right;\">\n",
       "      <th></th>\n",
       "      <th>Class Name</th>\n",
       "      <th>handicapped-infants</th>\n",
       "      <th>water-project-cost-sharing</th>\n",
       "      <th>adoption-of-the-budget-resolution</th>\n",
       "      <th>physician-fee-freeze</th>\n",
       "      <th>el-salvador-aid</th>\n",
       "      <th>religious-groups-in-schools</th>\n",
       "      <th>anti-satellite-test-ban</th>\n",
       "      <th>aid-to-nicaraguan-contras</th>\n",
       "      <th>mx-missile</th>\n",
       "      <th>immigration</th>\n",
       "      <th>synfuels-corporation-cutback</th>\n",
       "      <th>education-spending</th>\n",
       "      <th>superfund-right-to-sue</th>\n",
       "      <th>crime</th>\n",
       "      <th>duty-free-exports</th>\n",
       "      <th>export-administration-act-south-africa</th>\n",
       "    </tr>\n",
       "  </thead>\n",
       "  <tbody>\n",
       "    <tr>\n",
       "      <th>0</th>\n",
       "      <td>republican</td>\n",
       "      <td>n</td>\n",
       "      <td>y</td>\n",
       "      <td>n</td>\n",
       "      <td>y</td>\n",
       "      <td>y</td>\n",
       "      <td>y</td>\n",
       "      <td>n</td>\n",
       "      <td>n</td>\n",
       "      <td>n</td>\n",
       "      <td>y</td>\n",
       "      <td>?</td>\n",
       "      <td>y</td>\n",
       "      <td>y</td>\n",
       "      <td>y</td>\n",
       "      <td>n</td>\n",
       "      <td>y</td>\n",
       "    </tr>\n",
       "    <tr>\n",
       "      <th>1</th>\n",
       "      <td>republican</td>\n",
       "      <td>n</td>\n",
       "      <td>y</td>\n",
       "      <td>n</td>\n",
       "      <td>y</td>\n",
       "      <td>y</td>\n",
       "      <td>y</td>\n",
       "      <td>n</td>\n",
       "      <td>n</td>\n",
       "      <td>n</td>\n",
       "      <td>n</td>\n",
       "      <td>n</td>\n",
       "      <td>y</td>\n",
       "      <td>y</td>\n",
       "      <td>y</td>\n",
       "      <td>n</td>\n",
       "      <td>?</td>\n",
       "    </tr>\n",
       "    <tr>\n",
       "      <th>2</th>\n",
       "      <td>democrat</td>\n",
       "      <td>?</td>\n",
       "      <td>y</td>\n",
       "      <td>y</td>\n",
       "      <td>?</td>\n",
       "      <td>y</td>\n",
       "      <td>y</td>\n",
       "      <td>n</td>\n",
       "      <td>n</td>\n",
       "      <td>n</td>\n",
       "      <td>n</td>\n",
       "      <td>y</td>\n",
       "      <td>n</td>\n",
       "      <td>y</td>\n",
       "      <td>y</td>\n",
       "      <td>n</td>\n",
       "      <td>n</td>\n",
       "    </tr>\n",
       "    <tr>\n",
       "      <th>3</th>\n",
       "      <td>democrat</td>\n",
       "      <td>n</td>\n",
       "      <td>y</td>\n",
       "      <td>y</td>\n",
       "      <td>n</td>\n",
       "      <td>?</td>\n",
       "      <td>y</td>\n",
       "      <td>n</td>\n",
       "      <td>n</td>\n",
       "      <td>n</td>\n",
       "      <td>n</td>\n",
       "      <td>y</td>\n",
       "      <td>n</td>\n",
       "      <td>y</td>\n",
       "      <td>n</td>\n",
       "      <td>n</td>\n",
       "      <td>y</td>\n",
       "    </tr>\n",
       "    <tr>\n",
       "      <th>4</th>\n",
       "      <td>democrat</td>\n",
       "      <td>y</td>\n",
       "      <td>y</td>\n",
       "      <td>y</td>\n",
       "      <td>n</td>\n",
       "      <td>y</td>\n",
       "      <td>y</td>\n",
       "      <td>n</td>\n",
       "      <td>n</td>\n",
       "      <td>n</td>\n",
       "      <td>n</td>\n",
       "      <td>y</td>\n",
       "      <td>?</td>\n",
       "      <td>y</td>\n",
       "      <td>y</td>\n",
       "      <td>y</td>\n",
       "      <td>y</td>\n",
       "    </tr>\n",
       "  </tbody>\n",
       "</table>\n",
       "</div>"
      ],
      "text/plain": [
       "   Class Name handicapped-infants water-project-cost-sharing  \\\n",
       "0  republican                   n                          y   \n",
       "1  republican                   n                          y   \n",
       "2    democrat                   ?                          y   \n",
       "3    democrat                   n                          y   \n",
       "4    democrat                   y                          y   \n",
       "\n",
       "  adoption-of-the-budget-resolution physician-fee-freeze el-salvador-aid  \\\n",
       "0                                 n                    y               y   \n",
       "1                                 n                    y               y   \n",
       "2                                 y                    ?               y   \n",
       "3                                 y                    n               ?   \n",
       "4                                 y                    n               y   \n",
       "\n",
       "  religious-groups-in-schools anti-satellite-test-ban  \\\n",
       "0                           y                       n   \n",
       "1                           y                       n   \n",
       "2                           y                       n   \n",
       "3                           y                       n   \n",
       "4                           y                       n   \n",
       "\n",
       "  aid-to-nicaraguan-contras mx-missile immigration  \\\n",
       "0                         n          n           y   \n",
       "1                         n          n           n   \n",
       "2                         n          n           n   \n",
       "3                         n          n           n   \n",
       "4                         n          n           n   \n",
       "\n",
       "  synfuels-corporation-cutback education-spending superfund-right-to-sue  \\\n",
       "0                            ?                  y                      y   \n",
       "1                            n                  y                      y   \n",
       "2                            y                  n                      y   \n",
       "3                            y                  n                      y   \n",
       "4                            y                  ?                      y   \n",
       "\n",
       "  crime duty-free-exports export-administration-act-south-africa  \n",
       "0     y                 n                                      y  \n",
       "1     y                 n                                      ?  \n",
       "2     y                 n                                      n  \n",
       "3     n                 n                                      y  \n",
       "4     y                 y                                      y  "
      ]
     },
     "execution_count": 3,
     "metadata": {
      "tags": []
     },
     "output_type": "execute_result"
    }
   ],
   "source": [
    "df.head()"
   ]
  },
  {
   "cell_type": "code",
   "execution_count": 0,
   "metadata": {
    "colab": {
     "base_uri": "https://localhost:8080/",
     "height": 336
    },
    "colab_type": "code",
    "id": "N6g0q1Ceg05w",
    "outputId": "f42ba0f8-633f-469e-9432-73a3f47d596e"
   },
   "outputs": [
    {
     "data": {
      "text/plain": [
       "Class Name                                0.000000\n",
       "handicapped-infants                       0.027586\n",
       "water-project-cost-sharing                0.110345\n",
       "adoption-of-the-budget-resolution         0.025287\n",
       "physician-fee-freeze                      0.025287\n",
       "el-salvador-aid                           0.034483\n",
       "religious-groups-in-schools               0.025287\n",
       "anti-satellite-test-ban                   0.032184\n",
       "aid-to-nicaraguan-contras                 0.034483\n",
       "mx-missile                                0.050575\n",
       "immigration                               0.016092\n",
       "synfuels-corporation-cutback              0.048276\n",
       "education-spending                        0.071264\n",
       "superfund-right-to-sue                    0.057471\n",
       "crime                                     0.039080\n",
       "duty-free-exports                         0.064368\n",
       "export-administration-act-south-africa    0.239080\n",
       "dtype: float64"
      ]
     },
     "execution_count": 5,
     "metadata": {
      "tags": []
     },
     "output_type": "execute_result"
    }
   ],
   "source": [
    "df = df.replace({'?':np.nan, 'n':0, 'y':1})\n",
    "df.isnull().sum() / len(df)"
   ]
  },
  {
   "cell_type": "code",
   "execution_count": 0,
   "metadata": {
    "colab": {},
    "colab_type": "code",
    "id": "mQpWt6nq3DYZ"
   },
   "outputs": [],
   "source": [
    "def assess_t_stats(df, **kwargs):\n",
    "    results = []\n",
    "    for col in df.select_dtypes(include=np.number):\n",
    "        result = scipy.stats.ttest_ind(df.loc[df['Class Name']=='democrat', col],\n",
    "                                       df.loc[df['Class Name']=='republican', col],\n",
    "                                       **kwargs)\n",
    "        results.append({'issue':col,\n",
    "                        'statistic':result.statistic,\n",
    "                        'pvalue':result.pvalue})\n",
    "\n",
    "    return pd.DataFrame(results).sort_values(['pvalue', 'statistic'])"
   ]
  },
  {
   "cell_type": "code",
   "execution_count": 0,
   "metadata": {
    "colab": {
     "base_uri": "https://localhost:8080/",
     "height": 527
    },
    "colab_type": "code",
    "id": "9634sKle91_Z",
    "outputId": "45fb12fc-384b-4237-a353-428090fe99df"
   },
   "outputs": [
    {
     "data": {
      "text/html": [
       "<div>\n",
       "<style scoped>\n",
       "    .dataframe tbody tr th:only-of-type {\n",
       "        vertical-align: middle;\n",
       "    }\n",
       "\n",
       "    .dataframe tbody tr th {\n",
       "        vertical-align: top;\n",
       "    }\n",
       "\n",
       "    .dataframe thead th {\n",
       "        text-align: right;\n",
       "    }\n",
       "</style>\n",
       "<table border=\"1\" class=\"dataframe\">\n",
       "  <thead>\n",
       "    <tr style=\"text-align: right;\">\n",
       "      <th></th>\n",
       "      <th>issue</th>\n",
       "      <th>pvalue</th>\n",
       "      <th>statistic</th>\n",
       "    </tr>\n",
       "  </thead>\n",
       "  <tbody>\n",
       "    <tr>\n",
       "      <th>3</th>\n",
       "      <td>physician-fee-freeze</td>\n",
       "      <td>8.820761e-193</td>\n",
       "      <td>-56.704806</td>\n",
       "    </tr>\n",
       "    <tr>\n",
       "      <th>4</th>\n",
       "      <td>el-salvador-aid</td>\n",
       "      <td>2.898373e-79</td>\n",
       "      <td>-23.907288</td>\n",
       "    </tr>\n",
       "    <tr>\n",
       "      <th>2</th>\n",
       "      <td>adoption-of-the-budget-resolution</td>\n",
       "      <td>1.946704e-69</td>\n",
       "      <td>22.793246</td>\n",
       "    </tr>\n",
       "    <tr>\n",
       "      <th>11</th>\n",
       "      <td>education-spending</td>\n",
       "      <td>3.568751e-62</td>\n",
       "      <td>-20.724816</td>\n",
       "    </tr>\n",
       "    <tr>\n",
       "      <th>13</th>\n",
       "      <td>crime</td>\n",
       "      <td>6.862816e-58</td>\n",
       "      <td>-19.927656</td>\n",
       "    </tr>\n",
       "    <tr>\n",
       "      <th>7</th>\n",
       "      <td>aid-to-nicaraguan-contras</td>\n",
       "      <td>2.288121e-52</td>\n",
       "      <td>18.254856</td>\n",
       "    </tr>\n",
       "    <tr>\n",
       "      <th>8</th>\n",
       "      <td>mx-missile</td>\n",
       "      <td>4.289262e-51</td>\n",
       "      <td>17.409048</td>\n",
       "    </tr>\n",
       "    <tr>\n",
       "      <th>14</th>\n",
       "      <td>duty-free-exports</td>\n",
       "      <td>3.812922e-38</td>\n",
       "      <td>14.376245</td>\n",
       "    </tr>\n",
       "    <tr>\n",
       "      <th>12</th>\n",
       "      <td>superfund-right-to-sue</td>\n",
       "      <td>7.597900e-38</td>\n",
       "      <td>-14.352567</td>\n",
       "    </tr>\n",
       "    <tr>\n",
       "      <th>6</th>\n",
       "      <td>anti-satellite-test-ban</td>\n",
       "      <td>1.362781e-29</td>\n",
       "      <td>12.467493</td>\n",
       "    </tr>\n",
       "    <tr>\n",
       "      <th>5</th>\n",
       "      <td>religious-groups-in-schools</td>\n",
       "      <td>4.830932e-24</td>\n",
       "      <td>-10.767025</td>\n",
       "    </tr>\n",
       "    <tr>\n",
       "      <th>0</th>\n",
       "      <td>handicapped-infants</td>\n",
       "      <td>5.429019e-20</td>\n",
       "      <td>9.662337</td>\n",
       "    </tr>\n",
       "    <tr>\n",
       "      <th>10</th>\n",
       "      <td>synfuels-corporation-cutback</td>\n",
       "      <td>6.298960e-18</td>\n",
       "      <td>9.040574</td>\n",
       "    </tr>\n",
       "    <tr>\n",
       "      <th>15</th>\n",
       "      <td>export-administration-act-south-africa</td>\n",
       "      <td>1.042864e-09</td>\n",
       "      <td>6.397887</td>\n",
       "    </tr>\n",
       "    <tr>\n",
       "      <th>9</th>\n",
       "      <td>immigration</td>\n",
       "      <td>8.318509e-02</td>\n",
       "      <td>-1.737470</td>\n",
       "    </tr>\n",
       "    <tr>\n",
       "      <th>1</th>\n",
       "      <td>water-project-cost-sharing</td>\n",
       "      <td>9.291868e-01</td>\n",
       "      <td>-0.088940</td>\n",
       "    </tr>\n",
       "  </tbody>\n",
       "</table>\n",
       "</div>"
      ],
      "text/plain": [
       "                                     issue         pvalue  statistic\n",
       "3                     physician-fee-freeze  8.820761e-193 -56.704806\n",
       "4                          el-salvador-aid   2.898373e-79 -23.907288\n",
       "2        adoption-of-the-budget-resolution   1.946704e-69  22.793246\n",
       "11                      education-spending   3.568751e-62 -20.724816\n",
       "13                                   crime   6.862816e-58 -19.927656\n",
       "7                aid-to-nicaraguan-contras   2.288121e-52  18.254856\n",
       "8                               mx-missile   4.289262e-51  17.409048\n",
       "14                       duty-free-exports   3.812922e-38  14.376245\n",
       "12                  superfund-right-to-sue   7.597900e-38 -14.352567\n",
       "6                  anti-satellite-test-ban   1.362781e-29  12.467493\n",
       "5              religious-groups-in-schools   4.830932e-24 -10.767025\n",
       "0                      handicapped-infants   5.429019e-20   9.662337\n",
       "10            synfuels-corporation-cutback   6.298960e-18   9.040574\n",
       "15  export-administration-act-south-africa   1.042864e-09   6.397887\n",
       "9                              immigration   8.318509e-02  -1.737470\n",
       "1               water-project-cost-sharing   9.291868e-01  -0.088940"
      ]
     },
     "execution_count": 51,
     "metadata": {
      "tags": []
     },
     "output_type": "execute_result"
    }
   ],
   "source": [
    "assess_t_stats(df, nan_policy='omit', equal_var=False)"
   ]
  },
  {
   "cell_type": "markdown",
   "metadata": {
    "colab_type": "text",
    "id": "loDk38DkfF7f"
   },
   "source": [
    "Every issue except `immigration` and `water-project-cost-sharing` had statistically different voting across democrat and republican groups. Negative t-statistics map to greater republican support.\n",
    "\n",
    "Since the dataset columns contain 3-25% no-votes, I wonder whether either party disproportionately did not vote on any given topic."
   ]
  },
  {
   "cell_type": "code",
   "execution_count": 0,
   "metadata": {
    "colab": {
     "base_uri": "https://localhost:8080/",
     "height": 527
    },
    "colab_type": "code",
    "id": "yCy9n55WcECl",
    "outputId": "23526f26-72f0-4b7c-d212-b8ce5874b3ab"
   },
   "outputs": [
    {
     "data": {
      "text/html": [
       "<div>\n",
       "<style scoped>\n",
       "    .dataframe tbody tr th:only-of-type {\n",
       "        vertical-align: middle;\n",
       "    }\n",
       "\n",
       "    .dataframe tbody tr th {\n",
       "        vertical-align: top;\n",
       "    }\n",
       "\n",
       "    .dataframe thead th {\n",
       "        text-align: right;\n",
       "    }\n",
       "</style>\n",
       "<table border=\"1\" class=\"dataframe\">\n",
       "  <thead>\n",
       "    <tr style=\"text-align: right;\">\n",
       "      <th></th>\n",
       "      <th>issue</th>\n",
       "      <th>pvalue</th>\n",
       "      <th>statistic</th>\n",
       "    </tr>\n",
       "  </thead>\n",
       "  <tbody>\n",
       "    <tr>\n",
       "      <th>15</th>\n",
       "      <td>export-administration-act-south-africa</td>\n",
       "      <td>0.000006</td>\n",
       "      <td>-4.576925</td>\n",
       "    </tr>\n",
       "    <tr>\n",
       "      <th>8</th>\n",
       "      <td>mx-missile</td>\n",
       "      <td>0.004804</td>\n",
       "      <td>-2.835053</td>\n",
       "    </tr>\n",
       "    <tr>\n",
       "      <th>7</th>\n",
       "      <td>aid-to-nicaraguan-contras</td>\n",
       "      <td>0.014734</td>\n",
       "      <td>2.458408</td>\n",
       "    </tr>\n",
       "    <tr>\n",
       "      <th>4</th>\n",
       "      <td>el-salvador-aid</td>\n",
       "      <td>0.097723</td>\n",
       "      <td>-1.659582</td>\n",
       "    </tr>\n",
       "    <tr>\n",
       "      <th>5</th>\n",
       "      <td>religious-groups-in-schools</td>\n",
       "      <td>0.117175</td>\n",
       "      <td>-1.569881</td>\n",
       "    </tr>\n",
       "    <tr>\n",
       "      <th>0</th>\n",
       "      <td>handicapped-infants</td>\n",
       "      <td>0.293876</td>\n",
       "      <td>-1.050963</td>\n",
       "    </tr>\n",
       "    <tr>\n",
       "      <th>3</th>\n",
       "      <td>physician-fee-freeze</td>\n",
       "      <td>0.408738</td>\n",
       "      <td>-0.826957</td>\n",
       "    </tr>\n",
       "    <tr>\n",
       "      <th>14</th>\n",
       "      <td>duty-free-exports</td>\n",
       "      <td>0.641402</td>\n",
       "      <td>0.466165</td>\n",
       "    </tr>\n",
       "    <tr>\n",
       "      <th>1</th>\n",
       "      <td>water-project-cost-sharing</td>\n",
       "      <td>0.651043</td>\n",
       "      <td>0.452715</td>\n",
       "    </tr>\n",
       "    <tr>\n",
       "      <th>10</th>\n",
       "      <td>synfuels-corporation-cutback</td>\n",
       "      <td>0.689333</td>\n",
       "      <td>0.400109</td>\n",
       "    </tr>\n",
       "    <tr>\n",
       "      <th>11</th>\n",
       "      <td>education-spending</td>\n",
       "      <td>0.699173</td>\n",
       "      <td>0.386766</td>\n",
       "    </tr>\n",
       "    <tr>\n",
       "      <th>6</th>\n",
       "      <td>anti-satellite-test-ban</td>\n",
       "      <td>0.746275</td>\n",
       "      <td>0.323824</td>\n",
       "    </tr>\n",
       "    <tr>\n",
       "      <th>9</th>\n",
       "      <td>immigration</td>\n",
       "      <td>0.820559</td>\n",
       "      <td>0.227006</td>\n",
       "    </tr>\n",
       "    <tr>\n",
       "      <th>13</th>\n",
       "      <td>crime</td>\n",
       "      <td>0.827801</td>\n",
       "      <td>0.217690</td>\n",
       "    </tr>\n",
       "    <tr>\n",
       "      <th>2</th>\n",
       "      <td>adoption-of-the-budget-resolution</td>\n",
       "      <td>0.875323</td>\n",
       "      <td>-0.157010</td>\n",
       "    </tr>\n",
       "    <tr>\n",
       "      <th>12</th>\n",
       "      <td>superfund-right-to-sue</td>\n",
       "      <td>0.885082</td>\n",
       "      <td>0.144636</td>\n",
       "    </tr>\n",
       "  </tbody>\n",
       "</table>\n",
       "</div>"
      ],
      "text/plain": [
       "                                     issue    pvalue  statistic\n",
       "15  export-administration-act-south-africa  0.000006  -4.576925\n",
       "8                               mx-missile  0.004804  -2.835053\n",
       "7                aid-to-nicaraguan-contras  0.014734   2.458408\n",
       "4                          el-salvador-aid  0.097723  -1.659582\n",
       "5              religious-groups-in-schools  0.117175  -1.569881\n",
       "0                      handicapped-infants  0.293876  -1.050963\n",
       "3                     physician-fee-freeze  0.408738  -0.826957\n",
       "14                       duty-free-exports  0.641402   0.466165\n",
       "1               water-project-cost-sharing  0.651043   0.452715\n",
       "10            synfuels-corporation-cutback  0.689333   0.400109\n",
       "11                      education-spending  0.699173   0.386766\n",
       "6                  anti-satellite-test-ban  0.746275   0.323824\n",
       "9                              immigration  0.820559   0.227006\n",
       "13                                   crime  0.827801   0.217690\n",
       "2        adoption-of-the-budget-resolution  0.875323  -0.157010\n",
       "12                  superfund-right-to-sue  0.885082   0.144636"
      ]
     },
     "execution_count": 46,
     "metadata": {
      "tags": []
     },
     "output_type": "execute_result"
    }
   ],
   "source": [
    "df_voted = ~df.iloc[:, 1:50].isnull() * 1\n",
    "\n",
    "for col in df_voted:\n",
    "    df_voted[col] = pd.to_numeric(df_voted[col])\n",
    "\n",
    "df_voted = pd.concat([df['Class Name'], df_voted], axis=1)\n",
    "\n",
    "assess_t_stats(df_voted, nan_policy='omit', equal_var=False)"
   ]
  },
  {
   "cell_type": "markdown",
   "metadata": {
    "colab_type": "text",
    "id": "I6l5AC2_eqRY"
   },
   "source": [
    "It appears there may have been strategic non-voting in `export-administration-act-south-africa` and `mx-missile`."
   ]
  }
 ],
 "metadata": {
  "colab": {
   "collapsed_sections": [],
   "include_colab_link": true,
   "name": "LS_DS2_141_Statistics_Probability_and_Inference.ipynb",
   "provenance": [],
   "version": "0.3.2"
  },
  "kernelspec": {
   "display_name": "Python 3",
   "language": "python",
   "name": "python3"
  },
  "language_info": {
   "codemirror_mode": {
    "name": "ipython",
    "version": 3
   },
   "file_extension": ".py",
   "mimetype": "text/x-python",
   "name": "python",
   "nbconvert_exporter": "python",
   "pygments_lexer": "ipython3",
   "version": "3.6.8"
  }
 },
 "nbformat": 4,
 "nbformat_minor": 1
}
